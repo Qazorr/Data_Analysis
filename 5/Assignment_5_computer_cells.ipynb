{
 "cells": [
  {
   "cell_type": "markdown",
   "metadata": {},
   "source": [
    "When exploring a large set of documents -- such as Wikipedia, news articles, StackOverflow, etc. -- it can be useful to get a list of related material. To find relevant documents you typically\n",
    "* Decide on a notion of similarity\n",
    "* Find the documents that are most similar \n",
    "\n",
    "In the assignment you will\n",
    "* Gain intuition for different notions of similarity and practice finding similar documents. \n",
    "* Explore the tradeoffs with representing documents using raw word counts and TF-IDF\n",
    "* Explore the behavior of different distance metrics by looking at the Wikipedia pages most similar to President Obama’s page."
   ]
  },
  {
   "cell_type": "code",
   "execution_count": 109,
   "metadata": {
    "collapsed": false,
    "jupyter": {
     "outputs_hidden": false
    }
   },
   "outputs": [],
   "source": [
    "import matplotlib.pyplot as plt\n",
    "import numpy as np\n",
    "import pandas as pd\n",
    "%matplotlib inline"
   ]
  },
  {
   "cell_type": "markdown",
   "metadata": {},
   "source": [
    "## Load Wikipedia dataset"
   ]
  },
  {
   "cell_type": "markdown",
   "metadata": {},
   "source": [
    "We will be using the dataset of abridged Wikipedia pages. Each element of the dataset consists of a link to the wikipedia article, the name of the person, and the text of the article (in lowercase).  "
   ]
  },
  {
   "cell_type": "code",
   "execution_count": 110,
   "metadata": {
    "collapsed": false,
    "jupyter": {
     "outputs_hidden": false
    }
   },
   "outputs": [
    {
     "data": {
      "text/html": [
       "<div>\n",
       "<style scoped>\n",
       "    .dataframe tbody tr th:only-of-type {\n",
       "        vertical-align: middle;\n",
       "    }\n",
       "\n",
       "    .dataframe tbody tr th {\n",
       "        vertical-align: top;\n",
       "    }\n",
       "\n",
       "    .dataframe thead th {\n",
       "        text-align: right;\n",
       "    }\n",
       "</style>\n",
       "<table border=\"1\" class=\"dataframe\">\n",
       "  <thead>\n",
       "    <tr style=\"text-align: right;\">\n",
       "      <th></th>\n",
       "      <th>URI</th>\n",
       "      <th>name</th>\n",
       "      <th>text</th>\n",
       "    </tr>\n",
       "  </thead>\n",
       "  <tbody>\n",
       "    <tr>\n",
       "      <td>0</td>\n",
       "      <td>&lt;http://dbpedia.org/resource/Digby_Morrell&gt;</td>\n",
       "      <td>Digby Morrell</td>\n",
       "      <td>digby morrell born 10 october 1979 is a former...</td>\n",
       "    </tr>\n",
       "    <tr>\n",
       "      <td>1</td>\n",
       "      <td>&lt;http://dbpedia.org/resource/Alfred_J._Lewy&gt;</td>\n",
       "      <td>Alfred J. Lewy</td>\n",
       "      <td>alfred j lewy aka sandy lewy graduated from un...</td>\n",
       "    </tr>\n",
       "    <tr>\n",
       "      <td>2</td>\n",
       "      <td>&lt;http://dbpedia.org/resource/Harpdog_Brown&gt;</td>\n",
       "      <td>Harpdog Brown</td>\n",
       "      <td>harpdog brown is a singer and harmonica player...</td>\n",
       "    </tr>\n",
       "    <tr>\n",
       "      <td>3</td>\n",
       "      <td>&lt;http://dbpedia.org/resource/Franz_Rottensteiner&gt;</td>\n",
       "      <td>Franz Rottensteiner</td>\n",
       "      <td>franz rottensteiner born in waidmannsfeld lowe...</td>\n",
       "    </tr>\n",
       "    <tr>\n",
       "      <td>4</td>\n",
       "      <td>&lt;http://dbpedia.org/resource/G-Enka&gt;</td>\n",
       "      <td>G-Enka</td>\n",
       "      <td>henry krvits born 30 december 1974 in tallinn ...</td>\n",
       "    </tr>\n",
       "  </tbody>\n",
       "</table>\n",
       "</div>"
      ],
      "text/plain": [
       "                                                 URI                 name  \\\n",
       "0        <http://dbpedia.org/resource/Digby_Morrell>        Digby Morrell   \n",
       "1       <http://dbpedia.org/resource/Alfred_J._Lewy>       Alfred J. Lewy   \n",
       "2        <http://dbpedia.org/resource/Harpdog_Brown>        Harpdog Brown   \n",
       "3  <http://dbpedia.org/resource/Franz_Rottensteiner>  Franz Rottensteiner   \n",
       "4               <http://dbpedia.org/resource/G-Enka>               G-Enka   \n",
       "\n",
       "                                                text  \n",
       "0  digby morrell born 10 october 1979 is a former...  \n",
       "1  alfred j lewy aka sandy lewy graduated from un...  \n",
       "2  harpdog brown is a singer and harmonica player...  \n",
       "3  franz rottensteiner born in waidmannsfeld lowe...  \n",
       "4  henry krvits born 30 december 1974 in tallinn ...  "
      ]
     },
     "execution_count": 110,
     "metadata": {},
     "output_type": "execute_result"
    }
   ],
   "source": [
    "wiki = pd.read_csv('people_wiki.csv')\n",
    "wiki.head()"
   ]
  },
  {
   "cell_type": "markdown",
   "metadata": {},
   "source": [
    "If you want to check whether the text on the webpage agrees with the one here, you can display it with the following code:"
   ]
  },
  {
   "cell_type": "code",
   "execution_count": 7,
   "metadata": {
    "collapsed": true
   },
   "outputs": [],
   "source": [
    "# from IPython.display import HTML\n",
    "# print(wiki['text'][0])\n",
    "# HTML(url=wiki['URI'][0])"
   ]
  },
  {
   "cell_type": "markdown",
   "metadata": {},
   "source": [
    "## Ex. 1: Extract word count vectors"
   ]
  },
  {
   "cell_type": "markdown",
   "metadata": {},
   "source": [
    "As we have seen in Assignment 4, we can extract word count vectors using `CountVectorizer` function.\n",
    "- make sure you include words of unit length by using the parameter: `token_pattern=r\"(?u)\\b\\w+\\b\"`\n",
    "- do not use any stopwords\n",
    "- take 10000 most frequent words in the corpus\n",
    "- explicitly take all the words independent of in how many documents they occur\n",
    "- obtain the matrix of word counts"
   ]
  },
  {
   "cell_type": "code",
   "execution_count": 9,
   "metadata": {
    "collapsed": true
   },
   "outputs": [],
   "source": [
    "from sklearn.feature_extraction.text import CountVectorizer\n",
    "\n",
    "vectorizer = CountVectorizer(# Your code goes here\n",
    "                            )\n",
    "WCmatrix = vectorizer.# Your code goes here"
   ]
  },
  {
   "cell_type": "markdown",
   "metadata": {},
   "source": [
    "## Ex. 2: Find nearest neighbors"
   ]
  },
  {
   "cell_type": "markdown",
   "metadata": {},
   "source": [
    "**a)** Start by finding the nearest neighbors of the Barack Obama page using the above word count matrix to represent the articles and **Euclidean** distance to measure distance.\n",
    "Save the distances in `wiki['BO-eucl']` and look at the top 10 nearest neighbors."
   ]
  },
  {
   "cell_type": "code",
   "execution_count": 11,
   "metadata": {
    "collapsed": true
   },
   "outputs": [],
   "source": [
    "# One can use the following:\n",
    "    # from sklearn.neighbors import NearestNeighbors\n",
    "    # nbrs = NearestNeighbors(n_neighbors=3, algorithm='brute',metric='euclidean').fit(X.toarray())\n",
    "    # distances, indices = nbrs.kneighbors(X.toarray())\n",
    "# but here let's use:\n",
    "from sklearn.metrics import pairwise_distances\n",
    "\n",
    "dist = pairwise_distances(# Your code goes here\n",
    "                            )\n",
    "# Your code goes here\n"
   ]
  },
  {
   "cell_type": "code",
   "execution_count": 12,
   "metadata": {
    "collapsed": false
   },
   "outputs": [
    {
     "data": {
      "text/html": [
       "<div>\n",
       "<style scoped>\n",
       "    .dataframe tbody tr th:only-of-type {\n",
       "        vertical-align: middle;\n",
       "    }\n",
       "\n",
       "    .dataframe tbody tr th {\n",
       "        vertical-align: top;\n",
       "    }\n",
       "\n",
       "    .dataframe thead th {\n",
       "        text-align: right;\n",
       "    }\n",
       "</style>\n",
       "<table border=\"1\" class=\"dataframe\">\n",
       "  <thead>\n",
       "    <tr style=\"text-align: right;\">\n",
       "      <th></th>\n",
       "      <th>URI</th>\n",
       "      <th>name</th>\n",
       "      <th>text</th>\n",
       "      <th>BO-eucl</th>\n",
       "    </tr>\n",
       "  </thead>\n",
       "  <tbody>\n",
       "    <tr>\n",
       "      <td>35817</td>\n",
       "      <td>&lt;http://dbpedia.org/resource/Barack_Obama&gt;</td>\n",
       "      <td>Barack Obama</td>\n",
       "      <td>barack hussein obama ii brk husen bm born augu...</td>\n",
       "      <td>0.000000</td>\n",
       "    </tr>\n",
       "    <tr>\n",
       "      <td>24478</td>\n",
       "      <td>&lt;http://dbpedia.org/resource/Joe_Biden&gt;</td>\n",
       "      <td>Joe Biden</td>\n",
       "      <td>joseph robinette joe biden jr dosf rbnt badn b...</td>\n",
       "      <td>31.336879</td>\n",
       "    </tr>\n",
       "    <tr>\n",
       "      <td>28447</td>\n",
       "      <td>&lt;http://dbpedia.org/resource/George_W._Bush&gt;</td>\n",
       "      <td>George W. Bush</td>\n",
       "      <td>george walker bush born july 6 1946 is an amer...</td>\n",
       "      <td>33.645208</td>\n",
       "    </tr>\n",
       "    <tr>\n",
       "      <td>48202</td>\n",
       "      <td>&lt;http://dbpedia.org/resource/Tony_Vaccaro&gt;</td>\n",
       "      <td>Tony Vaccaro</td>\n",
       "      <td>michelantonio celestino onofrio vaccaro born d...</td>\n",
       "      <td>33.734256</td>\n",
       "    </tr>\n",
       "    <tr>\n",
       "      <td>14754</td>\n",
       "      <td>&lt;http://dbpedia.org/resource/Mitt_Romney&gt;</td>\n",
       "      <td>Mitt Romney</td>\n",
       "      <td>willard mitt romney born march 12 1947 is an a...</td>\n",
       "      <td>34.351128</td>\n",
       "    </tr>\n",
       "    <tr>\n",
       "      <td>31423</td>\n",
       "      <td>&lt;http://dbpedia.org/resource/Walter_Mondale&gt;</td>\n",
       "      <td>Walter Mondale</td>\n",
       "      <td>walter frederick fritz mondale born january 5 ...</td>\n",
       "      <td>34.423829</td>\n",
       "    </tr>\n",
       "    <tr>\n",
       "      <td>36364</td>\n",
       "      <td>&lt;http://dbpedia.org/resource/Don_Bonker&gt;</td>\n",
       "      <td>Don Bonker</td>\n",
       "      <td>don leroy bonker born march 7 1937 in denver c...</td>\n",
       "      <td>34.597688</td>\n",
       "    </tr>\n",
       "    <tr>\n",
       "      <td>13229</td>\n",
       "      <td>&lt;http://dbpedia.org/resource/Francisco_Barrio&gt;</td>\n",
       "      <td>Francisco Barrio</td>\n",
       "      <td>francisco javier barrio terrazas born november...</td>\n",
       "      <td>34.669872</td>\n",
       "    </tr>\n",
       "    <tr>\n",
       "      <td>35357</td>\n",
       "      <td>&lt;http://dbpedia.org/resource/Lawrence_Summers&gt;</td>\n",
       "      <td>Lawrence Summers</td>\n",
       "      <td>lawrence henry larry summers born november 30 ...</td>\n",
       "      <td>35.383612</td>\n",
       "    </tr>\n",
       "    <tr>\n",
       "      <td>25258</td>\n",
       "      <td>&lt;http://dbpedia.org/resource/Marc_Ravalomanana&gt;</td>\n",
       "      <td>Marc Ravalomanana</td>\n",
       "      <td>marc ravalomanana malagasy ravalumanan born 12...</td>\n",
       "      <td>35.440090</td>\n",
       "    </tr>\n",
       "  </tbody>\n",
       "</table>\n",
       "</div>"
      ],
      "text/plain": [
       "                                                   URI               name  \\\n",
       "35817       <http://dbpedia.org/resource/Barack_Obama>       Barack Obama   \n",
       "24478          <http://dbpedia.org/resource/Joe_Biden>          Joe Biden   \n",
       "28447     <http://dbpedia.org/resource/George_W._Bush>     George W. Bush   \n",
       "48202       <http://dbpedia.org/resource/Tony_Vaccaro>       Tony Vaccaro   \n",
       "14754        <http://dbpedia.org/resource/Mitt_Romney>        Mitt Romney   \n",
       "31423     <http://dbpedia.org/resource/Walter_Mondale>     Walter Mondale   \n",
       "36364         <http://dbpedia.org/resource/Don_Bonker>         Don Bonker   \n",
       "13229   <http://dbpedia.org/resource/Francisco_Barrio>   Francisco Barrio   \n",
       "35357   <http://dbpedia.org/resource/Lawrence_Summers>   Lawrence Summers   \n",
       "25258  <http://dbpedia.org/resource/Marc_Ravalomanana>  Marc Ravalomanana   \n",
       "\n",
       "                                                    text    BO-eucl  \n",
       "35817  barack hussein obama ii brk husen bm born augu...   0.000000  \n",
       "24478  joseph robinette joe biden jr dosf rbnt badn b...  31.336879  \n",
       "28447  george walker bush born july 6 1946 is an amer...  33.645208  \n",
       "48202  michelantonio celestino onofrio vaccaro born d...  33.734256  \n",
       "14754  willard mitt romney born march 12 1947 is an a...  34.351128  \n",
       "31423  walter frederick fritz mondale born january 5 ...  34.423829  \n",
       "36364  don leroy bonker born march 7 1937 in denver c...  34.597688  \n",
       "13229  francisco javier barrio terrazas born november...  34.669872  \n",
       "35357  lawrence henry larry summers born november 30 ...  35.383612  \n",
       "25258  marc ravalomanana malagasy ravalumanan born 12...  35.440090  "
      ]
     },
     "execution_count": 12,
     "metadata": {},
     "output_type": "execute_result"
    }
   ],
   "source": []
  },
  {
   "cell_type": "markdown",
   "metadata": {},
   "source": [
    "**b)** Measure the pairwise distance between the Wikipedia pages of Barack Obama, George W. Bush, and Joe Biden. Which of the three pairs has the smallest distance?"
   ]
  },
  {
   "cell_type": "code",
   "execution_count": 13,
   "metadata": {
    "collapsed": false
   },
   "outputs": [
    {
     "name": "stdout",
     "output_type": "stream",
     "text": [
      "31.336879231984796\n",
      "33.645207682521445\n"
     ]
    },
    {
     "data": {
      "text/plain": [
       "30.919249667480614"
      ]
     },
     "execution_count": 13,
     "metadata": {},
     "output_type": "execute_result"
    }
   ],
   "source": [
    "# Your code goes here"
   ]
  },
  {
   "cell_type": "markdown",
   "metadata": {},
   "source": [
    "All of the 10 people from **a)** are politicians, but about half of them have rather tenuous connections with Obama, other than the fact that they are politicians, e.g.,\n",
    "\n",
    "* Francisco Barrio is a Mexican politician, and a former governor of Chihuahua.\n",
    "* Walter Mondale and Don Bonker are Democrats who made their career in late 1970s.\n",
    "\n",
    "Nearest neighbors with raw word counts got some things right, showing all politicians in the query result, but missed finer and important details."
   ]
  },
  {
   "cell_type": "markdown",
   "metadata": {},
   "source": [
    "**c)** Let's find out why Francisco Barrio was considered a close neighbor of Obama.\n",
    "To do this, look at the most frequently used words in each of Barack Obama and Francisco Barrio's pages."
   ]
  },
  {
   "cell_type": "code",
   "execution_count": 15,
   "metadata": {
    "collapsed": true
   },
   "outputs": [],
   "source": [
    "def top_words(name):\n",
    "    \"\"\"\n",
    "    Get a table of the most frequent words in the given person's wikipedia page.\n",
    "    \"\"\"\n",
    "    # Your code goes here\n",
    "    \n",
    "    return df.sort_values(by='count',ascending=False)"
   ]
  },
  {
   "cell_type": "code",
   "execution_count": 48,
   "metadata": {
    "collapsed": false,
    "jupyter": {
     "outputs_hidden": false
    }
   },
   "outputs": [
    {
     "data": {
      "text/html": [
       "<div>\n",
       "<style scoped>\n",
       "    .dataframe tbody tr th:only-of-type {\n",
       "        vertical-align: middle;\n",
       "    }\n",
       "\n",
       "    .dataframe tbody tr th {\n",
       "        vertical-align: top;\n",
       "    }\n",
       "\n",
       "    .dataframe thead th {\n",
       "        text-align: right;\n",
       "    }\n",
       "</style>\n",
       "<table border=\"1\" class=\"dataframe\">\n",
       "  <thead>\n",
       "    <tr style=\"text-align: right;\">\n",
       "      <th></th>\n",
       "      <th>count</th>\n",
       "    </tr>\n",
       "  </thead>\n",
       "  <tbody>\n",
       "    <tr>\n",
       "      <td>the</td>\n",
       "      <td>40</td>\n",
       "    </tr>\n",
       "    <tr>\n",
       "      <td>in</td>\n",
       "      <td>30</td>\n",
       "    </tr>\n",
       "    <tr>\n",
       "      <td>and</td>\n",
       "      <td>21</td>\n",
       "    </tr>\n",
       "    <tr>\n",
       "      <td>of</td>\n",
       "      <td>18</td>\n",
       "    </tr>\n",
       "    <tr>\n",
       "      <td>to</td>\n",
       "      <td>14</td>\n",
       "    </tr>\n",
       "    <tr>\n",
       "      <td>...</td>\n",
       "      <td>...</td>\n",
       "    </tr>\n",
       "    <tr>\n",
       "      <td>hawaii</td>\n",
       "      <td>1</td>\n",
       "    </tr>\n",
       "    <tr>\n",
       "      <td>hillary</td>\n",
       "      <td>1</td>\n",
       "    </tr>\n",
       "    <tr>\n",
       "      <td>hold</td>\n",
       "      <td>1</td>\n",
       "    </tr>\n",
       "    <tr>\n",
       "      <td>honolulu</td>\n",
       "      <td>1</td>\n",
       "    </tr>\n",
       "    <tr>\n",
       "      <td>years</td>\n",
       "      <td>1</td>\n",
       "    </tr>\n",
       "  </tbody>\n",
       "</table>\n",
       "<p>245 rows × 1 columns</p>\n",
       "</div>"
      ],
      "text/plain": [
       "          count\n",
       "the          40\n",
       "in           30\n",
       "and          21\n",
       "of           18\n",
       "to           14\n",
       "...         ...\n",
       "hawaii        1\n",
       "hillary       1\n",
       "hold          1\n",
       "honolulu      1\n",
       "years         1\n",
       "\n",
       "[245 rows x 1 columns]"
      ]
     },
     "execution_count": 48,
     "metadata": {},
     "output_type": "execute_result"
    }
   ],
   "source": [
    "obama_words = top_words('Barack Obama')\n",
    "obama_words"
   ]
  },
  {
   "cell_type": "code",
   "execution_count": 49,
   "metadata": {
    "collapsed": false
   },
   "outputs": [
    {
     "data": {
      "text/html": [
       "<div>\n",
       "<style scoped>\n",
       "    .dataframe tbody tr th:only-of-type {\n",
       "        vertical-align: middle;\n",
       "    }\n",
       "\n",
       "    .dataframe tbody tr th {\n",
       "        vertical-align: top;\n",
       "    }\n",
       "\n",
       "    .dataframe thead th {\n",
       "        text-align: right;\n",
       "    }\n",
       "</style>\n",
       "<table border=\"1\" class=\"dataframe\">\n",
       "  <thead>\n",
       "    <tr style=\"text-align: right;\">\n",
       "      <th></th>\n",
       "      <th>count</th>\n",
       "    </tr>\n",
       "  </thead>\n",
       "  <tbody>\n",
       "    <tr>\n",
       "      <td>the</td>\n",
       "      <td>36</td>\n",
       "    </tr>\n",
       "    <tr>\n",
       "      <td>of</td>\n",
       "      <td>24</td>\n",
       "    </tr>\n",
       "    <tr>\n",
       "      <td>and</td>\n",
       "      <td>18</td>\n",
       "    </tr>\n",
       "    <tr>\n",
       "      <td>in</td>\n",
       "      <td>17</td>\n",
       "    </tr>\n",
       "    <tr>\n",
       "      <td>he</td>\n",
       "      <td>10</td>\n",
       "    </tr>\n",
       "    <tr>\n",
       "      <td>...</td>\n",
       "      <td>...</td>\n",
       "    </tr>\n",
       "    <tr>\n",
       "      <td>governance</td>\n",
       "      <td>1</td>\n",
       "    </tr>\n",
       "    <tr>\n",
       "      <td>governors</td>\n",
       "      <td>1</td>\n",
       "    </tr>\n",
       "    <tr>\n",
       "      <td>has</td>\n",
       "      <td>1</td>\n",
       "    </tr>\n",
       "    <tr>\n",
       "      <td>headed</td>\n",
       "      <td>1</td>\n",
       "    </tr>\n",
       "    <tr>\n",
       "      <td>joining</td>\n",
       "      <td>1</td>\n",
       "    </tr>\n",
       "  </tbody>\n",
       "</table>\n",
       "<p>195 rows × 1 columns</p>\n",
       "</div>"
      ],
      "text/plain": [
       "            count\n",
       "the            36\n",
       "of             24\n",
       "and            18\n",
       "in             17\n",
       "he             10\n",
       "...           ...\n",
       "governance      1\n",
       "governors       1\n",
       "has             1\n",
       "headed          1\n",
       "joining         1\n",
       "\n",
       "[195 rows x 1 columns]"
      ]
     },
     "execution_count": 49,
     "metadata": {},
     "output_type": "execute_result"
    }
   ],
   "source": [
    "barrio_words = top_words('Francisco Barrio')\n",
    "barrio_words"
   ]
  },
  {
   "cell_type": "markdown",
   "metadata": {},
   "source": [
    "**d)** Extract the list of most frequent **common** words that appear in both Obama's and Barrio's documents and display the five words that appear most often in Barrio's article.\n",
    "\n",
    "Use a dataframe operation known as **join**. The **join** operation is very useful when it comes to playing around with data: it lets you combine the content of two tables using a shared column (in this case, the index column of words). See [the documentation](https://pandas.pydata.org/pandas-docs/stable/reference/api/pandas.DataFrame.join.html) for more details."
   ]
  },
  {
   "cell_type": "code",
   "execution_count": 56,
   "metadata": {
    "collapsed": false,
    "jupyter": {
     "outputs_hidden": false
    }
   },
   "outputs": [
    {
     "data": {
      "text/html": [
       "<div>\n",
       "<style scoped>\n",
       "    .dataframe tbody tr th:only-of-type {\n",
       "        vertical-align: middle;\n",
       "    }\n",
       "\n",
       "    .dataframe tbody tr th {\n",
       "        vertical-align: top;\n",
       "    }\n",
       "\n",
       "    .dataframe thead th {\n",
       "        text-align: right;\n",
       "    }\n",
       "</style>\n",
       "<table border=\"1\" class=\"dataframe\">\n",
       "  <thead>\n",
       "    <tr style=\"text-align: right;\">\n",
       "      <th></th>\n",
       "      <th>count_Obama</th>\n",
       "      <th>count_Barrio</th>\n",
       "    </tr>\n",
       "  </thead>\n",
       "  <tbody>\n",
       "    <tr>\n",
       "      <td>the</td>\n",
       "      <td>40</td>\n",
       "      <td>36</td>\n",
       "    </tr>\n",
       "    <tr>\n",
       "      <td>of</td>\n",
       "      <td>18</td>\n",
       "      <td>24</td>\n",
       "    </tr>\n",
       "    <tr>\n",
       "      <td>and</td>\n",
       "      <td>21</td>\n",
       "      <td>18</td>\n",
       "    </tr>\n",
       "    <tr>\n",
       "      <td>in</td>\n",
       "      <td>30</td>\n",
       "      <td>17</td>\n",
       "    </tr>\n",
       "    <tr>\n",
       "      <td>he</td>\n",
       "      <td>7</td>\n",
       "      <td>10</td>\n",
       "    </tr>\n",
       "  </tbody>\n",
       "</table>\n",
       "</div>"
      ],
      "text/plain": [
       "     count_Obama  count_Barrio\n",
       "the           40            36\n",
       "of            18            24\n",
       "and           21            18\n",
       "in            30            17\n",
       "he             7            10"
      ]
     },
     "execution_count": 56,
     "metadata": {},
     "output_type": "execute_result"
    }
   ],
   "source": [
    "# Modify the code to avoid error.\n",
    "\n",
    "common_words = obama_words.join(barrio_words)\n",
    "common_words.sort_values(by='count_Barrio', ascending=False).head(5)"
   ]
  },
  {
   "cell_type": "markdown",
   "metadata": {},
   "source": [
    "Collect all words that appear both in Barack Obama and George W. Bush pages.  Out of those words, find the 10 words that show up most often in Obama's page. "
   ]
  },
  {
   "cell_type": "code",
   "execution_count": 37,
   "metadata": {
    "collapsed": false
   },
   "outputs": [
    {
     "data": {
      "text/html": [
       "<div>\n",
       "<style scoped>\n",
       "    .dataframe tbody tr th:only-of-type {\n",
       "        vertical-align: middle;\n",
       "    }\n",
       "\n",
       "    .dataframe tbody tr th {\n",
       "        vertical-align: top;\n",
       "    }\n",
       "\n",
       "    .dataframe thead th {\n",
       "        text-align: right;\n",
       "    }\n",
       "</style>\n",
       "<table border=\"1\" class=\"dataframe\">\n",
       "  <thead>\n",
       "    <tr style=\"text-align: right;\">\n",
       "      <th></th>\n",
       "      <th>count_Obama</th>\n",
       "      <th>count_Bush</th>\n",
       "    </tr>\n",
       "  </thead>\n",
       "  <tbody>\n",
       "    <tr>\n",
       "      <td>the</td>\n",
       "      <td>40</td>\n",
       "      <td>39</td>\n",
       "    </tr>\n",
       "    <tr>\n",
       "      <td>in</td>\n",
       "      <td>30</td>\n",
       "      <td>22</td>\n",
       "    </tr>\n",
       "    <tr>\n",
       "      <td>and</td>\n",
       "      <td>21</td>\n",
       "      <td>14</td>\n",
       "    </tr>\n",
       "    <tr>\n",
       "      <td>of</td>\n",
       "      <td>18</td>\n",
       "      <td>14</td>\n",
       "    </tr>\n",
       "    <tr>\n",
       "      <td>to</td>\n",
       "      <td>14</td>\n",
       "      <td>11</td>\n",
       "    </tr>\n",
       "    <tr>\n",
       "      <td>his</td>\n",
       "      <td>11</td>\n",
       "      <td>6</td>\n",
       "    </tr>\n",
       "    <tr>\n",
       "      <td>act</td>\n",
       "      <td>8</td>\n",
       "      <td>3</td>\n",
       "    </tr>\n",
       "    <tr>\n",
       "      <td>he</td>\n",
       "      <td>7</td>\n",
       "      <td>8</td>\n",
       "    </tr>\n",
       "    <tr>\n",
       "      <td>a</td>\n",
       "      <td>7</td>\n",
       "      <td>6</td>\n",
       "    </tr>\n",
       "    <tr>\n",
       "      <td>as</td>\n",
       "      <td>6</td>\n",
       "      <td>6</td>\n",
       "    </tr>\n",
       "  </tbody>\n",
       "</table>\n",
       "</div>"
      ],
      "text/plain": [
       "     count_Obama  count_Bush\n",
       "the           40          39\n",
       "in            30          22\n",
       "and           21          14\n",
       "of            18          14\n",
       "to            14          11\n",
       "his           11           6\n",
       "act            8           3\n",
       "he             7           8\n",
       "a              7           6\n",
       "as             6           6"
      ]
     },
     "execution_count": 37,
     "metadata": {},
     "output_type": "execute_result"
    }
   ],
   "source": [
    "bush_words = top_words('George W. Bush')\n",
    "# Modify the code to avoid error.\n",
    "obama_words.join(bush_words).head(10)"
   ]
  },
  {
   "cell_type": "markdown",
   "metadata": {},
   "source": [
    "**Note.** Even though common words are swamping out important subtle differences, commonalities in rarer political words still matter on the margin. This is why politicians are being listed in the query result instead of musicians, for example. In the next subsection, we will introduce a different metric that will place greater emphasis on those rarer words."
   ]
  },
  {
   "cell_type": "markdown",
   "metadata": {},
   "source": [
    "**e)** Among the words that appear in both Barack Obama and Francisco Barrio, take the 15 that appear most frequently in Obama. How many of the articles in the Wikipedia dataset contain all of those 15 words? Which are they?"
   ]
  },
  {
   "cell_type": "code",
   "execution_count": 86,
   "metadata": {
    "collapsed": false
   },
   "outputs": [
    {
     "data": {
      "text/plain": [
       "30"
      ]
     },
     "execution_count": 86,
     "metadata": {},
     "output_type": "execute_result"
    }
   ],
   "source": [
    "# It might be helpful to use:\n",
    "word_to_ind={v: i for i, v in enumerate(vectorizer.get_feature_names())} # a dictionary with words as keys and indices as values\n",
    "\n",
    "# Your code goes here\n",
    "\n",
    "articles.sum()"
   ]
  },
  {
   "cell_type": "code",
   "execution_count": 89,
   "metadata": {
    "collapsed": false
   },
   "outputs": [
    {
     "data": {
      "text/plain": [
       "1177                            Donald Fowler\n",
       "1413                            Chris Redfern\n",
       "3400                            James Bilbray\n",
       "4004                              Paul Kagame\n",
       "4874                            Bernard Kenny\n",
       "6617                               Paul Sarlo\n",
       "11316                Gy%C3%B6rgy Sur%C3%A1nyi\n",
       "12371                         Morley Winograd\n",
       "12743                 David Ibarra Mu%C3%B1oz\n",
       "13229                        Francisco Barrio\n",
       "16095    Charles Taylor (Liberian politician)\n",
       "24417                           Jesse Ventura\n",
       "24478                               Joe Biden\n",
       "28447                          George W. Bush\n",
       "29505                        Arturo Vallarino\n",
       "33744                        John O. Agwunobi\n",
       "35541                            Jimmy Carter\n",
       "35817                            Barack Obama\n",
       "36452                            Bill Clinton\n",
       "38081                          John Garamendi\n",
       "39489                          Helmut Anheier\n",
       "40229                            Edward Rowny\n",
       "42934      Henry Sanders (Alabama politician)\n",
       "48253                 Saber Hossain Chowdhury\n",
       "50868                           Russell Trood\n",
       "52229                     Robert Lewis Morgan\n",
       "53102                             Ewart Brown\n",
       "54765                 Chuck Wolfe (executive)\n",
       "55495                      Lokman Singh Karki\n",
       "56172                               Hu Jintao\n",
       "Name: name, dtype: object"
      ]
     },
     "execution_count": 89,
     "metadata": {},
     "output_type": "execute_result"
    }
   ],
   "source": [
    "wiki[articles]['name']"
   ]
  },
  {
   "cell_type": "markdown",
   "metadata": {},
   "source": [
    "## Ex. 3: TF-IDF to the rescue"
   ]
  },
  {
   "cell_type": "markdown",
   "metadata": {},
   "source": [
    "Much of the perceived commonalities between Obama and Barrio were due to occurrences of extremely frequent words, such as \"the\", \"and\", and \"his\". So nearest neighbors is recommending plausible results sometimes for the wrong reasons.\n",
    "\n",
    "To retrieve articles that are more relevant, we should focus more on rare words that don't happen in every article. **TF-IDF** (term frequency–inverse document frequency) is a feature representation that penalizes words that are too common."
   ]
  },
  {
   "cell_type": "markdown",
   "metadata": {},
   "source": [
    "**a)** Repeat the search for the 10 nearest neighbors of Barack Obama with Euclidean distance of TF-IDF. This time do not limit to only 10000 most frequent words, but take all of them."
   ]
  },
  {
   "cell_type": "code",
   "execution_count": 111,
   "metadata": {
    "collapsed": true
   },
   "outputs": [],
   "source": [
    "# We could use:\n",
    "    # from sklearn.feature_extraction.text import TfidfVectorizer\n",
    "# but since we already know how to compute CountVectorizer, let's use:\n",
    "from sklearn.feature_extraction.text import TfidfTransformer\n",
    "\n",
    "vectorizer = CountVectorizer(# Your code goes here\n",
    "                            )\n",
    "WCmatrix=vectorizer.# Your code goes here\n",
    "\n",
    "tfidf=TfidfTransformer# Your code goes here; use smooth_idf=False, norm=None\n",
    "TFIDFmatrix = # Your code goes here"
   ]
  },
  {
   "cell_type": "code",
   "execution_count": 113,
   "metadata": {
    "collapsed": false
   },
   "outputs": [
    {
     "data": {
      "text/html": [
       "<div>\n",
       "<style scoped>\n",
       "    .dataframe tbody tr th:only-of-type {\n",
       "        vertical-align: middle;\n",
       "    }\n",
       "\n",
       "    .dataframe tbody tr th {\n",
       "        vertical-align: top;\n",
       "    }\n",
       "\n",
       "    .dataframe thead th {\n",
       "        text-align: right;\n",
       "    }\n",
       "</style>\n",
       "<table border=\"1\" class=\"dataframe\">\n",
       "  <thead>\n",
       "    <tr style=\"text-align: right;\">\n",
       "      <th></th>\n",
       "      <th>name</th>\n",
       "      <th>BO-eucl-TF-IDF</th>\n",
       "    </tr>\n",
       "  </thead>\n",
       "  <tbody>\n",
       "    <tr>\n",
       "      <td>35817</td>\n",
       "      <td>Barack Obama</td>\n",
       "      <td>0.000000</td>\n",
       "    </tr>\n",
       "    <tr>\n",
       "      <td>38376</td>\n",
       "      <td>Samantha Power</td>\n",
       "      <td>139.364493</td>\n",
       "    </tr>\n",
       "    <tr>\n",
       "      <td>46811</td>\n",
       "      <td>Jeff Sessions</td>\n",
       "      <td>139.757740</td>\n",
       "    </tr>\n",
       "    <tr>\n",
       "      <td>7914</td>\n",
       "      <td>Phil Schiliro</td>\n",
       "      <td>139.812175</td>\n",
       "    </tr>\n",
       "    <tr>\n",
       "      <td>38714</td>\n",
       "      <td>Eric Stern (politician)</td>\n",
       "      <td>140.450064</td>\n",
       "    </tr>\n",
       "    <tr>\n",
       "      <td>6507</td>\n",
       "      <td>Bob Menendez</td>\n",
       "      <td>141.661111</td>\n",
       "    </tr>\n",
       "    <tr>\n",
       "      <td>44681</td>\n",
       "      <td>Jesse Lee (politician)</td>\n",
       "      <td>142.342440</td>\n",
       "    </tr>\n",
       "    <tr>\n",
       "      <td>6796</td>\n",
       "      <td>Eric Holder</td>\n",
       "      <td>142.490179</td>\n",
       "    </tr>\n",
       "    <tr>\n",
       "      <td>38495</td>\n",
       "      <td>Barney Frank</td>\n",
       "      <td>142.581337</td>\n",
       "    </tr>\n",
       "    <tr>\n",
       "      <td>56008</td>\n",
       "      <td>Nathan Cullen</td>\n",
       "      <td>142.751073</td>\n",
       "    </tr>\n",
       "  </tbody>\n",
       "</table>\n",
       "</div>"
      ],
      "text/plain": [
       "                          name  BO-eucl-TF-IDF\n",
       "35817             Barack Obama        0.000000\n",
       "38376           Samantha Power      139.364493\n",
       "46811            Jeff Sessions      139.757740\n",
       "7914             Phil Schiliro      139.812175\n",
       "38714  Eric Stern (politician)      140.450064\n",
       "6507              Bob Menendez      141.661111\n",
       "44681   Jesse Lee (politician)      142.342440\n",
       "6796               Eric Holder      142.490179\n",
       "38495             Barney Frank      142.581337\n",
       "56008            Nathan Cullen      142.751073"
      ]
     },
     "execution_count": 113,
     "metadata": {},
     "output_type": "execute_result"
    }
   ],
   "source": [
    "# now recompute the distances as before but for TF-IDF\n",
    "dist = pairwise_distances(# Your code goes here\n",
    "                        )\n",
    "# add the distances as a column in the wiki dataframe\n",
    "wiki['BO-eucl-TF-IDF'] = # Your code goes here\n"
   ]
  },
  {
   "cell_type": "markdown",
   "metadata": {},
   "source": [
    "Let's determine whether this list makes sense.\n",
    "* With a notable exception of Nathan Cullen, the other 8 are all American politicians who are contemporaries of Barack Obama.\n",
    "* Phil Schiliro, Jesse Lee, Samantha Power, Eric Stern, Eric Holder worked for Obama.\n",
    "\n",
    "Clearly, the results are more plausible with the use of TF-IDF. Let's take a look at the word vector for Obama and Schilirio's pages. Notice that TF-IDF representation assigns a weight to each word. This weight captures relative importance of that word in the document."
   ]
  },
  {
   "cell_type": "markdown",
   "metadata": {},
   "source": [
    "**b)** Sort the words in Obama's article by their TF-IDF weights; do the same for Schiliro's article as well.\n",
    "Using the **join** operation we learned earlier, compute the common words shared by Obama's and Schiliro's articles.\n",
    "Sort the common words by their TF-IDF weights in Obama's document."
   ]
  },
  {
   "cell_type": "code",
   "execution_count": 145,
   "metadata": {
    "collapsed": true
   },
   "outputs": [],
   "source": [
    "def top_words_tf_idf(name):\n",
    "    \"\"\"\n",
    "    Get a table of the largest tf-idf words in the given person's wikipedia page.\n",
    "    \"\"\"\n",
    "    # Your code goes here\n",
    "    \n",
    "    return df.sort_values(by='tf-idf',ascending=False)"
   ]
  },
  {
   "cell_type": "code",
   "execution_count": 116,
   "metadata": {
    "collapsed": false,
    "jupyter": {
     "outputs_hidden": false
    }
   },
   "outputs": [
    {
     "data": {
      "text/html": [
       "<div>\n",
       "<style scoped>\n",
       "    .dataframe tbody tr th:only-of-type {\n",
       "        vertical-align: middle;\n",
       "    }\n",
       "\n",
       "    .dataframe tbody tr th {\n",
       "        vertical-align: top;\n",
       "    }\n",
       "\n",
       "    .dataframe thead th {\n",
       "        text-align: right;\n",
       "    }\n",
       "</style>\n",
       "<table border=\"1\" class=\"dataframe\">\n",
       "  <thead>\n",
       "    <tr style=\"text-align: right;\">\n",
       "      <th></th>\n",
       "      <th>tf-idf_Obama</th>\n",
       "      <th>tf-idf_Schiliro</th>\n",
       "    </tr>\n",
       "  </thead>\n",
       "  <tbody>\n",
       "    <tr>\n",
       "      <td>obama</td>\n",
       "      <td>52.295653</td>\n",
       "      <td>11.621256</td>\n",
       "    </tr>\n",
       "    <tr>\n",
       "      <td>the</td>\n",
       "      <td>40.004063</td>\n",
       "      <td>10.001016</td>\n",
       "    </tr>\n",
       "    <tr>\n",
       "      <td>in</td>\n",
       "      <td>30.028962</td>\n",
       "      <td>5.004827</td>\n",
       "    </tr>\n",
       "    <tr>\n",
       "      <td>and</td>\n",
       "      <td>21.015648</td>\n",
       "      <td>6.004471</td>\n",
       "    </tr>\n",
       "    <tr>\n",
       "      <td>law</td>\n",
       "      <td>20.722936</td>\n",
       "      <td>10.361468</td>\n",
       "    </tr>\n",
       "    <tr>\n",
       "      <td>of</td>\n",
       "      <td>18.074811</td>\n",
       "      <td>9.037406</td>\n",
       "    </tr>\n",
       "    <tr>\n",
       "      <td>democratic</td>\n",
       "      <td>16.410689</td>\n",
       "      <td>8.205344</td>\n",
       "    </tr>\n",
       "    <tr>\n",
       "      <td>to</td>\n",
       "      <td>14.657229</td>\n",
       "      <td>7.328615</td>\n",
       "    </tr>\n",
       "    <tr>\n",
       "      <td>his</td>\n",
       "      <td>13.888726</td>\n",
       "      <td>1.262611</td>\n",
       "    </tr>\n",
       "    <tr>\n",
       "      <td>senate</td>\n",
       "      <td>13.164288</td>\n",
       "      <td>4.388096</td>\n",
       "    </tr>\n",
       "    <tr>\n",
       "      <td>president</td>\n",
       "      <td>11.226869</td>\n",
       "      <td>14.033587</td>\n",
       "    </tr>\n",
       "    <tr>\n",
       "      <td>presidential</td>\n",
       "      <td>9.386955</td>\n",
       "      <td>4.693478</td>\n",
       "    </tr>\n",
       "    <tr>\n",
       "      <td>he</td>\n",
       "      <td>8.493580</td>\n",
       "      <td>13.347054</td>\n",
       "    </tr>\n",
       "    <tr>\n",
       "      <td>states</td>\n",
       "      <td>8.473201</td>\n",
       "      <td>2.824400</td>\n",
       "    </tr>\n",
       "    <tr>\n",
       "      <td>2011</td>\n",
       "      <td>8.107041</td>\n",
       "      <td>5.404694</td>\n",
       "    </tr>\n",
       "  </tbody>\n",
       "</table>\n",
       "</div>"
      ],
      "text/plain": [
       "              tf-idf_Obama  tf-idf_Schiliro\n",
       "obama            52.295653        11.621256\n",
       "the              40.004063        10.001016\n",
       "in               30.028962         5.004827\n",
       "and              21.015648         6.004471\n",
       "law              20.722936        10.361468\n",
       "of               18.074811         9.037406\n",
       "democratic       16.410689         8.205344\n",
       "to               14.657229         7.328615\n",
       "his              13.888726         1.262611\n",
       "senate           13.164288         4.388096\n",
       "president        11.226869        14.033587\n",
       "presidential      9.386955         4.693478\n",
       "he                8.493580        13.347054\n",
       "states            8.473201         2.824400\n",
       "2011              8.107041         5.404694"
      ]
     },
     "execution_count": 116,
     "metadata": {},
     "output_type": "execute_result"
    }
   ],
   "source": [
    "obama_tf_idf = top_words_tf_idf('Barack Obama')\n",
    "schiliro_tf_idf = top_words_tf_idf('Phil Schiliro')\n",
    "common_words = # Your code goes here"
   ]
  },
  {
   "cell_type": "markdown",
   "metadata": {},
   "source": [
    "**c)** Among the words that appear in both Barack Obama and Phil Schiliro, take the 15 that have largest weights in Obama. How many of the articles in the Wikipedia dataset contain all of those 15 words? Which are they?"
   ]
  },
  {
   "cell_type": "code",
   "execution_count": 117,
   "metadata": {
    "collapsed": false
   },
   "outputs": [
    {
     "data": {
      "text/plain": [
       "3"
      ]
     },
     "execution_count": 117,
     "metadata": {},
     "output_type": "execute_result"
    }
   ],
   "source": [
    "# It might be helpful to use:\n",
    "word_to_ind={v: i for i, v in enumerate(vectorizer.get_feature_names())} # a dictionary with words as keys and indices as values\n",
    "\n",
    "# Your code goes here\n",
    "\n",
    "articles.sum()"
   ]
  },
  {
   "cell_type": "code",
   "execution_count": 118,
   "metadata": {
    "collapsed": false
   },
   "outputs": [
    {
     "data": {
      "text/plain": [
       "7914     Phil Schiliro\n",
       "24478        Joe Biden\n",
       "35817     Barack Obama\n",
       "Name: name, dtype: object"
      ]
     },
     "execution_count": 118,
     "metadata": {},
     "output_type": "execute_result"
    }
   ],
   "source": [
    "wiki[articles]['name']"
   ]
  },
  {
   "cell_type": "markdown",
   "metadata": {},
   "source": [
    "Notice the huge difference in this calculation using TF-IDF scores instead  of raw word counts. We've eliminated noise arising from extremely common words."
   ]
  },
  {
   "cell_type": "markdown",
   "metadata": {},
   "source": [
    "## Ex. 4: Choosing metrics"
   ]
  },
  {
   "cell_type": "markdown",
   "metadata": {},
   "source": [
    "**a)** Compute the Euclidean distance between TF-IDF features of Obama and Biden."
   ]
  },
  {
   "cell_type": "code",
   "execution_count": 122,
   "metadata": {
    "collapsed": false
   },
   "outputs": [
    {
     "data": {
      "text/plain": [
       "148.7784541307789"
      ]
     },
     "execution_count": 122,
     "metadata": {},
     "output_type": "execute_result"
    }
   ],
   "source": [
    "dist = # Your code goes here"
   ]
  },
  {
   "cell_type": "markdown",
   "metadata": {},
   "source": [
    "The distance is larger than the distances we found for the 10 nearest neighbors, which we repeat here for readability:"
   ]
  },
  {
   "cell_type": "code",
   "execution_count": 121,
   "metadata": {
    "collapsed": false,
    "jupyter": {
     "outputs_hidden": false
    }
   },
   "outputs": [
    {
     "data": {
      "text/html": [
       "<div>\n",
       "<style scoped>\n",
       "    .dataframe tbody tr th:only-of-type {\n",
       "        vertical-align: middle;\n",
       "    }\n",
       "\n",
       "    .dataframe tbody tr th {\n",
       "        vertical-align: top;\n",
       "    }\n",
       "\n",
       "    .dataframe thead th {\n",
       "        text-align: right;\n",
       "    }\n",
       "</style>\n",
       "<table border=\"1\" class=\"dataframe\">\n",
       "  <thead>\n",
       "    <tr style=\"text-align: right;\">\n",
       "      <th></th>\n",
       "      <th>name</th>\n",
       "      <th>BO-eucl-TF-IDF</th>\n",
       "    </tr>\n",
       "  </thead>\n",
       "  <tbody>\n",
       "    <tr>\n",
       "      <td>35817</td>\n",
       "      <td>Barack Obama</td>\n",
       "      <td>0.000000</td>\n",
       "    </tr>\n",
       "    <tr>\n",
       "      <td>38376</td>\n",
       "      <td>Samantha Power</td>\n",
       "      <td>139.364493</td>\n",
       "    </tr>\n",
       "    <tr>\n",
       "      <td>46811</td>\n",
       "      <td>Jeff Sessions</td>\n",
       "      <td>139.757740</td>\n",
       "    </tr>\n",
       "    <tr>\n",
       "      <td>7914</td>\n",
       "      <td>Phil Schiliro</td>\n",
       "      <td>139.812175</td>\n",
       "    </tr>\n",
       "    <tr>\n",
       "      <td>38714</td>\n",
       "      <td>Eric Stern (politician)</td>\n",
       "      <td>140.450064</td>\n",
       "    </tr>\n",
       "    <tr>\n",
       "      <td>6507</td>\n",
       "      <td>Bob Menendez</td>\n",
       "      <td>141.661111</td>\n",
       "    </tr>\n",
       "    <tr>\n",
       "      <td>44681</td>\n",
       "      <td>Jesse Lee (politician)</td>\n",
       "      <td>142.342440</td>\n",
       "    </tr>\n",
       "    <tr>\n",
       "      <td>6796</td>\n",
       "      <td>Eric Holder</td>\n",
       "      <td>142.490179</td>\n",
       "    </tr>\n",
       "    <tr>\n",
       "      <td>38495</td>\n",
       "      <td>Barney Frank</td>\n",
       "      <td>142.581337</td>\n",
       "    </tr>\n",
       "    <tr>\n",
       "      <td>56008</td>\n",
       "      <td>Nathan Cullen</td>\n",
       "      <td>142.751073</td>\n",
       "    </tr>\n",
       "  </tbody>\n",
       "</table>\n",
       "</div>"
      ],
      "text/plain": [
       "                          name  BO-eucl-TF-IDF\n",
       "35817             Barack Obama        0.000000\n",
       "38376           Samantha Power      139.364493\n",
       "46811            Jeff Sessions      139.757740\n",
       "7914             Phil Schiliro      139.812175\n",
       "38714  Eric Stern (politician)      140.450064\n",
       "6507              Bob Menendez      141.661111\n",
       "44681   Jesse Lee (politician)      142.342440\n",
       "6796               Eric Holder      142.490179\n",
       "38495             Barney Frank      142.581337\n",
       "56008            Nathan Cullen      142.751073"
      ]
     },
     "execution_count": 121,
     "metadata": {},
     "output_type": "execute_result"
    }
   ],
   "source": [
    "wiki.sort_values(by='BO-eucl-TF-IDF',ascending=True)[['name','BO-eucl-TF-IDF']][0:10]"
   ]
  },
  {
   "cell_type": "markdown",
   "metadata": {},
   "source": [
    "But one may wonder, is Biden's article that different from Obama's, more so than, say, Schiliro's? It turns out that, when we compute nearest neighbors using the Euclidean distances, we unwittingly favor short articles over long ones."
   ]
  },
  {
   "cell_type": "markdown",
   "metadata": {},
   "source": [
    "**b)** Let us compute the length of each Wikipedia document, and examine the document lengths for the 100 nearest neighbors to Obama's page. To compute text length use the same splitting rules you used in `vectorizer`."
   ]
  },
  {
   "cell_type": "code",
   "execution_count": 133,
   "metadata": {
    "collapsed": false,
    "jupyter": {
     "outputs_hidden": false
    }
   },
   "outputs": [],
   "source": [
    "tokenizer = # Your code goes here\n",
    "\n",
    "def compute_length(row):\n",
    "# Here we could use simply:\n",
    "#     return len(row['text'].split(' '))\n",
    "    return len(tokenizer(row['text']))\n",
    "\n",
    "wiki['length'] = # Your code goes here"
   ]
  },
  {
   "cell_type": "code",
   "execution_count": 134,
   "metadata": {
    "collapsed": false,
    "jupyter": {
     "outputs_hidden": false
    }
   },
   "outputs": [
    {
     "data": {
      "text/html": [
       "<div>\n",
       "<style scoped>\n",
       "    .dataframe tbody tr th:only-of-type {\n",
       "        vertical-align: middle;\n",
       "    }\n",
       "\n",
       "    .dataframe tbody tr th {\n",
       "        vertical-align: top;\n",
       "    }\n",
       "\n",
       "    .dataframe thead th {\n",
       "        text-align: right;\n",
       "    }\n",
       "</style>\n",
       "<table border=\"1\" class=\"dataframe\">\n",
       "  <thead>\n",
       "    <tr style=\"text-align: right;\">\n",
       "      <th></th>\n",
       "      <th>name</th>\n",
       "      <th>length</th>\n",
       "      <th>BO-eucl-TF-IDF</th>\n",
       "    </tr>\n",
       "  </thead>\n",
       "  <tbody>\n",
       "    <tr>\n",
       "      <td>35817</td>\n",
       "      <td>Barack Obama</td>\n",
       "      <td>540</td>\n",
       "      <td>0.000000</td>\n",
       "    </tr>\n",
       "    <tr>\n",
       "      <td>38376</td>\n",
       "      <td>Samantha Power</td>\n",
       "      <td>310</td>\n",
       "      <td>139.364493</td>\n",
       "    </tr>\n",
       "    <tr>\n",
       "      <td>46811</td>\n",
       "      <td>Jeff Sessions</td>\n",
       "      <td>230</td>\n",
       "      <td>139.757740</td>\n",
       "    </tr>\n",
       "    <tr>\n",
       "      <td>7914</td>\n",
       "      <td>Phil Schiliro</td>\n",
       "      <td>208</td>\n",
       "      <td>139.812175</td>\n",
       "    </tr>\n",
       "    <tr>\n",
       "      <td>38714</td>\n",
       "      <td>Eric Stern (politician)</td>\n",
       "      <td>255</td>\n",
       "      <td>140.450064</td>\n",
       "    </tr>\n",
       "    <tr>\n",
       "      <td>...</td>\n",
       "      <td>...</td>\n",
       "      <td>...</td>\n",
       "      <td>...</td>\n",
       "    </tr>\n",
       "    <tr>\n",
       "      <td>12834</td>\n",
       "      <td>Mark Waller (judge)</td>\n",
       "      <td>211</td>\n",
       "      <td>146.796202</td>\n",
       "    </tr>\n",
       "    <tr>\n",
       "      <td>11303</td>\n",
       "      <td>Steven Weinberg</td>\n",
       "      <td>227</td>\n",
       "      <td>146.815087</td>\n",
       "    </tr>\n",
       "    <tr>\n",
       "      <td>8277</td>\n",
       "      <td>John M. Facciola</td>\n",
       "      <td>207</td>\n",
       "      <td>146.823495</td>\n",
       "    </tr>\n",
       "    <tr>\n",
       "      <td>11996</td>\n",
       "      <td>Thomas H. Jackson</td>\n",
       "      <td>216</td>\n",
       "      <td>146.836489</td>\n",
       "    </tr>\n",
       "    <tr>\n",
       "      <td>50366</td>\n",
       "      <td>Patrick Lipton Robinson</td>\n",
       "      <td>201</td>\n",
       "      <td>146.849274</td>\n",
       "    </tr>\n",
       "  </tbody>\n",
       "</table>\n",
       "<p>100 rows × 3 columns</p>\n",
       "</div>"
      ],
      "text/plain": [
       "                          name  length  BO-eucl-TF-IDF\n",
       "35817             Barack Obama     540        0.000000\n",
       "38376           Samantha Power     310      139.364493\n",
       "46811            Jeff Sessions     230      139.757740\n",
       "7914             Phil Schiliro     208      139.812175\n",
       "38714  Eric Stern (politician)     255      140.450064\n",
       "...                        ...     ...             ...\n",
       "12834      Mark Waller (judge)     211      146.796202\n",
       "11303          Steven Weinberg     227      146.815087\n",
       "8277          John M. Facciola     207      146.823495\n",
       "11996        Thomas H. Jackson     216      146.836489\n",
       "50366  Patrick Lipton Robinson     201      146.849274\n",
       "\n",
       "[100 rows x 3 columns]"
      ]
     },
     "execution_count": 134,
     "metadata": {},
     "output_type": "execute_result"
    }
   ],
   "source": [
    "nearest_neighbors_euclidean = # Your code goes here"
   ]
  },
  {
   "cell_type": "markdown",
   "metadata": {},
   "source": [
    "**c)** To see how these document lengths compare to the lengths of other documents in the corpus, make a histogram of the document lengths of Obama's 100 nearest neighbors and compare to a histogram of document lengths for all documents."
   ]
  },
  {
   "cell_type": "code",
   "execution_count": 135,
   "metadata": {
    "collapsed": false,
    "jupyter": {
     "outputs_hidden": false
    }
   },
   "outputs": [
    {
     "data": {
      "image/png": "[encoded data removed]",
      "text/plain": [
       "<Figure size 756x324 with 1 Axes>"
      ]
     },
     "metadata": {
      "needs_background": "light"
     },
     "output_type": "display_data"
    }
   ],
   "source": [
    "plt.figure(figsize=(10.5,4.5))\n",
    "plt.hist(# Your code goes here\n",
    "        )\n",
    "plt.axvline(# Your code goes here\n",
    "        )\n",
    "\n",
    "# Your code goes here\n",
    "\n",
    "plt.tight_layout()"
   ]
  },
  {
   "cell_type": "markdown",
   "metadata": {},
   "source": [
    "Relative to the rest of Wikipedia, nearest neighbors of Obama are overwhemingly short, most of them being shorter than 300 words. The bias towards short articles is not appropriate in this application as there is really no reason to  favor short articles over long articles (they are all Wikipedia articles, after all). Many of the Wikipedia articles are 300 words or more, and both Obama and Biden are over 300 words long.\n",
    "\n",
    "**Note**: For the interest of computation time, the dataset given here contains _excerpts_ of the articles rather than full text. For instance, the actual Wikipedia article about Obama is around 25000 words. Do not be surprised by the low numbers shown in the histogram."
   ]
  },
  {
   "cell_type": "markdown",
   "metadata": {},
   "source": [
    "**Note:** Both word-count features and TF-IDF are proportional to word frequencies. While TF-IDF penalizes very common words, longer articles tend to have longer TF-IDF vectors simply because they have more words in them."
   ]
  },
  {
   "cell_type": "markdown",
   "metadata": {},
   "source": [
    "To remove this bias, we turn to **cosine distances**:\n",
    "$$\n",
    "d(\\mathbf{x},\\mathbf{y}) = 1 - \\frac{\\mathbf{x}^T\\mathbf{y}}{\\|\\mathbf{x}\\| \\|\\mathbf{y}\\|}\n",
    "$$\n",
    "Cosine distances let us compare word distributions of two articles of varying lengths."
   ]
  },
  {
   "cell_type": "markdown",
   "metadata": {},
   "source": [
    "**d)** Train a new nearest neighbor model, this time with cosine distances.  Then repeat the search for Obama's 100 nearest neighbors and make a plot to better visualize the effect of having used cosine distance in place of Euclidean on our TF-IDF vectors."
   ]
  },
  {
   "cell_type": "code",
   "execution_count": 139,
   "metadata": {
    "collapsed": false,
    "jupyter": {
     "outputs_hidden": false
    }
   },
   "outputs": [
    {
     "data": {
      "text/html": [
       "<div>\n",
       "<style scoped>\n",
       "    .dataframe tbody tr th:only-of-type {\n",
       "        vertical-align: middle;\n",
       "    }\n",
       "\n",
       "    .dataframe tbody tr th {\n",
       "        vertical-align: top;\n",
       "    }\n",
       "\n",
       "    .dataframe thead th {\n",
       "        text-align: right;\n",
       "    }\n",
       "</style>\n",
       "<table border=\"1\" class=\"dataframe\">\n",
       "  <thead>\n",
       "    <tr style=\"text-align: right;\">\n",
       "      <th></th>\n",
       "      <th>name</th>\n",
       "      <th>length</th>\n",
       "      <th>BO-cos-TF-IDF</th>\n",
       "    </tr>\n",
       "  </thead>\n",
       "  <tbody>\n",
       "    <tr>\n",
       "      <td>35817</td>\n",
       "      <td>Barack Obama</td>\n",
       "      <td>540</td>\n",
       "      <td>0.000000</td>\n",
       "    </tr>\n",
       "    <tr>\n",
       "      <td>24478</td>\n",
       "      <td>Joe Biden</td>\n",
       "      <td>414</td>\n",
       "      <td>0.572725</td>\n",
       "    </tr>\n",
       "    <tr>\n",
       "      <td>57108</td>\n",
       "      <td>Hillary Rodham Clinton</td>\n",
       "      <td>580</td>\n",
       "      <td>0.616149</td>\n",
       "    </tr>\n",
       "    <tr>\n",
       "      <td>38376</td>\n",
       "      <td>Samantha Power</td>\n",
       "      <td>310</td>\n",
       "      <td>0.625797</td>\n",
       "    </tr>\n",
       "    <tr>\n",
       "      <td>38714</td>\n",
       "      <td>Eric Stern (politician)</td>\n",
       "      <td>255</td>\n",
       "      <td>0.651475</td>\n",
       "    </tr>\n",
       "    <tr>\n",
       "      <td>...</td>\n",
       "      <td>...</td>\n",
       "      <td>...</td>\n",
       "      <td>...</td>\n",
       "    </tr>\n",
       "    <tr>\n",
       "      <td>2045</td>\n",
       "      <td>Allan Ryan (attorney)</td>\n",
       "      <td>291</td>\n",
       "      <td>0.731376</td>\n",
       "    </tr>\n",
       "    <tr>\n",
       "      <td>47085</td>\n",
       "      <td>Ray Thornton</td>\n",
       "      <td>326</td>\n",
       "      <td>0.731908</td>\n",
       "    </tr>\n",
       "    <tr>\n",
       "      <td>16392</td>\n",
       "      <td>P%C3%A9ter Kov%C3%A1cs (lawyer)</td>\n",
       "      <td>365</td>\n",
       "      <td>0.732172</td>\n",
       "    </tr>\n",
       "    <tr>\n",
       "      <td>55495</td>\n",
       "      <td>Lokman Singh Karki</td>\n",
       "      <td>2486</td>\n",
       "      <td>0.732608</td>\n",
       "    </tr>\n",
       "    <tr>\n",
       "      <td>22304</td>\n",
       "      <td>Chung Dong-young</td>\n",
       "      <td>886</td>\n",
       "      <td>0.732785</td>\n",
       "    </tr>\n",
       "  </tbody>\n",
       "</table>\n",
       "<p>100 rows × 3 columns</p>\n",
       "</div>"
      ],
      "text/plain": [
       "                                  name  length  BO-cos-TF-IDF\n",
       "35817                     Barack Obama     540       0.000000\n",
       "24478                        Joe Biden     414       0.572725\n",
       "57108           Hillary Rodham Clinton     580       0.616149\n",
       "38376                   Samantha Power     310       0.625797\n",
       "38714          Eric Stern (politician)     255       0.651475\n",
       "...                                ...     ...            ...\n",
       "2045             Allan Ryan (attorney)     291       0.731376\n",
       "47085                     Ray Thornton     326       0.731908\n",
       "16392  P%C3%A9ter Kov%C3%A1cs (lawyer)     365       0.732172\n",
       "55495               Lokman Singh Karki    2486       0.732608\n",
       "22304                 Chung Dong-young     886       0.732785\n",
       "\n",
       "[100 rows x 3 columns]"
      ]
     },
     "execution_count": 139,
     "metadata": {},
     "output_type": "execute_result"
    }
   ],
   "source": [
    "# Your code goes here\n",
    "nearest_neighbors_cosine"
   ]
  },
  {
   "cell_type": "markdown",
   "metadata": {},
   "source": [
    "From a glance at the above table, things look better.  For example, we now see Joe Biden as Barack Obama's nearest neighbor!  We also see Hillary Clinton on the list.  This list looks even more plausible as nearest neighbors of Barack Obama."
   ]
  },
  {
   "cell_type": "code",
   "execution_count": 140,
   "metadata": {
    "collapsed": false,
    "jupyter": {
     "outputs_hidden": false
    }
   },
   "outputs": [
    {
     "data": {
      "text/plain": [
       "<Figure size 756x324 with 0 Axes>"
      ]
     },
     "metadata": {},
     "output_type": "display_data"
    },
    {
     "data": {
      "image/png": "[encoded data removed]",
      "text/plain": [
       "<Figure size 756x324 with 1 Axes>"
      ]
     },
     "metadata": {
      "needs_background": "light"
     },
     "output_type": "display_data"
    }
   ],
   "source": [
    "plt.figure(figsize=(10.5,4.5))\n",
    "plt.hist(# Your code goes here\n",
    "        )\n",
    "plt.axvline(# Your code goes here\n",
    "        )\n",
    "\n",
    "# Your code goes here\n",
    "\n",
    "plt.tight_layout()"
   ]
  },
  {
   "cell_type": "markdown",
   "metadata": {},
   "source": [
    "Indeed, the 100 nearest neighbors using cosine distance provide a sampling across the range of document lengths, rather than just short articles like Euclidean distance provided."
   ]
  },
  {
   "cell_type": "markdown",
   "metadata": {},
   "source": [
    "**Moral of the story**: In deciding the features and distance measures, check if they produce results that make sense for your particular application."
   ]
  },
  {
   "cell_type": "markdown",
   "metadata": {},
   "source": [
    "## Ex. 5: Problem with cosine distances: tweets vs. long articles"
   ]
  },
  {
   "cell_type": "markdown",
   "metadata": {},
   "source": [
    "Happily ever after? Not so fast. Cosine distances ignore all document lengths, which may be great in certain situations but not in others. For instance, consider the following (admittedly contrived) example."
   ]
  },
  {
   "cell_type": "markdown",
   "metadata": {},
   "source": [
    "```\n",
    "+--------------------------------------------------------+\n",
    "|                                             +--------+ |\n",
    "|  One that shall not be named                | Follow | |\n",
    "|  @username                                  +--------+ |\n",
    "|                                                        |\n",
    "|  Democratic governments control law in response to     |\n",
    "|  popular act.                                          |\n",
    "|                                                        |\n",
    "|  8:05 AM - 16 May 2016                                 |\n",
    "|                                                        |\n",
    "|  Reply   Retweet (1,332)   Like (300)                  |\n",
    "|                                                        |\n",
    "+--------------------------------------------------------+\n",
    "```"
   ]
  },
  {
   "cell_type": "markdown",
   "metadata": {},
   "source": [
    "**a)** Transform the tweet into TF-IDF features, using the fit to the Wikipedia dataset. (That is, let's treat this tweet as an article in our Wikipedia dataset and see what happens.) How similar is this tweet to Barack Obama's Wikipedia article? "
   ]
  },
  {
   "cell_type": "code",
   "execution_count": 142,
   "metadata": {
    "collapsed": false
   },
   "outputs": [
    {
     "data": {
      "text/html": [
       "<div>\n",
       "<style scoped>\n",
       "    .dataframe tbody tr th:only-of-type {\n",
       "        vertical-align: middle;\n",
       "    }\n",
       "\n",
       "    .dataframe tbody tr th {\n",
       "        vertical-align: top;\n",
       "    }\n",
       "\n",
       "    .dataframe thead th {\n",
       "        text-align: right;\n",
       "    }\n",
       "</style>\n",
       "<table border=\"1\" class=\"dataframe\">\n",
       "  <thead>\n",
       "    <tr style=\"text-align: right;\">\n",
       "      <th></th>\n",
       "      <th>word count</th>\n",
       "      <th>tf_idf</th>\n",
       "    </tr>\n",
       "  </thead>\n",
       "  <tbody>\n",
       "    <tr>\n",
       "      <td>democratic</td>\n",
       "      <td>1</td>\n",
       "      <td>4.102672</td>\n",
       "    </tr>\n",
       "    <tr>\n",
       "      <td>governments</td>\n",
       "      <td>1</td>\n",
       "      <td>5.167571</td>\n",
       "    </tr>\n",
       "    <tr>\n",
       "      <td>control</td>\n",
       "      <td>1</td>\n",
       "      <td>4.721765</td>\n",
       "    </tr>\n",
       "    <tr>\n",
       "      <td>law</td>\n",
       "      <td>1</td>\n",
       "      <td>3.453823</td>\n",
       "    </tr>\n",
       "    <tr>\n",
       "      <td>in</td>\n",
       "      <td>1</td>\n",
       "      <td>1.000965</td>\n",
       "    </tr>\n",
       "    <tr>\n",
       "      <td>response</td>\n",
       "      <td>1</td>\n",
       "      <td>5.261462</td>\n",
       "    </tr>\n",
       "    <tr>\n",
       "      <td>to</td>\n",
       "      <td>1</td>\n",
       "      <td>1.046945</td>\n",
       "    </tr>\n",
       "    <tr>\n",
       "      <td>popular</td>\n",
       "      <td>1</td>\n",
       "      <td>3.764479</td>\n",
       "    </tr>\n",
       "    <tr>\n",
       "      <td>act</td>\n",
       "      <td>1</td>\n",
       "      <td>4.459778</td>\n",
       "    </tr>\n",
       "  </tbody>\n",
       "</table>\n",
       "</div>"
      ],
      "text/plain": [
       "             word count    tf_idf\n",
       "democratic            1  4.102672\n",
       "governments           1  5.167571\n",
       "control               1  4.721765\n",
       "law                   1  3.453823\n",
       "in                    1  1.000965\n",
       "response              1  5.261462\n",
       "to                    1  1.046945\n",
       "popular               1  3.764479\n",
       "act                   1  4.459778"
      ]
     },
     "execution_count": 142,
     "metadata": {},
     "output_type": "execute_result"
    }
   ],
   "source": [
    "df = pd.DataFrame({'text': ['democratic governments control law in response to popular act']})\n",
    "\n",
    "# Your code goes here"
   ]
  },
  {
   "cell_type": "markdown",
   "metadata": {},
   "source": [
    "Let's compare this tweet's TF-IDF vectors  to Barack Obama's Wikipedia entry."
   ]
  },
  {
   "cell_type": "code",
   "execution_count": 144,
   "metadata": {
    "collapsed": false,
    "jupyter": {
     "outputs_hidden": false
    }
   },
   "outputs": [
    {
     "data": {
      "text/html": [
       "<div>\n",
       "<style scoped>\n",
       "    .dataframe tbody tr th:only-of-type {\n",
       "        vertical-align: middle;\n",
       "    }\n",
       "\n",
       "    .dataframe tbody tr th {\n",
       "        vertical-align: top;\n",
       "    }\n",
       "\n",
       "    .dataframe thead th {\n",
       "        text-align: right;\n",
       "    }\n",
       "</style>\n",
       "<table border=\"1\" class=\"dataframe\">\n",
       "  <thead>\n",
       "    <tr style=\"text-align: right;\">\n",
       "      <th></th>\n",
       "      <th>tf-idf</th>\n",
       "    </tr>\n",
       "  </thead>\n",
       "  <tbody>\n",
       "    <tr>\n",
       "      <td>obama</td>\n",
       "      <td>52.295653</td>\n",
       "    </tr>\n",
       "    <tr>\n",
       "      <td>the</td>\n",
       "      <td>40.004063</td>\n",
       "    </tr>\n",
       "    <tr>\n",
       "      <td>act</td>\n",
       "      <td>35.678223</td>\n",
       "    </tr>\n",
       "    <tr>\n",
       "      <td>in</td>\n",
       "      <td>30.028962</td>\n",
       "    </tr>\n",
       "    <tr>\n",
       "      <td>iraq</td>\n",
       "      <td>21.747379</td>\n",
       "    </tr>\n",
       "    <tr>\n",
       "      <td>...</td>\n",
       "      <td>...</td>\n",
       "    </tr>\n",
       "    <tr>\n",
       "      <td>is</td>\n",
       "      <td>2.055233</td>\n",
       "    </tr>\n",
       "    <tr>\n",
       "      <td>new</td>\n",
       "      <td>1.887235</td>\n",
       "    </tr>\n",
       "    <tr>\n",
       "      <td>which</td>\n",
       "      <td>1.767431</td>\n",
       "    </tr>\n",
       "    <tr>\n",
       "      <td>that</td>\n",
       "      <td>1.661407</td>\n",
       "    </tr>\n",
       "    <tr>\n",
       "      <td>by</td>\n",
       "      <td>1.374553</td>\n",
       "    </tr>\n",
       "  </tbody>\n",
       "</table>\n",
       "<p>273 rows × 1 columns</p>\n",
       "</div>"
      ],
      "text/plain": [
       "          tf-idf\n",
       "obama  52.295653\n",
       "the    40.004063\n",
       "act    35.678223\n",
       "in     30.028962\n",
       "iraq   21.747379\n",
       "...          ...\n",
       "is      2.055233\n",
       "new     1.887235\n",
       "which   1.767431\n",
       "that    1.661407\n",
       "by      1.374553\n",
       "\n",
       "[273 rows x 1 columns]"
      ]
     },
     "execution_count": 144,
     "metadata": {},
     "output_type": "execute_result"
    }
   ],
   "source": [
    "obama_tf_idf"
   ]
  },
  {
   "cell_type": "markdown",
   "metadata": {},
   "source": [
    "**b)** Now, compute the cosine distance between the Barack Obama article and this tweet:"
   ]
  },
  {
   "cell_type": "code",
   "execution_count": 418,
   "metadata": {
    "collapsed": false,
    "jupyter": {
     "outputs_hidden": false
    }
   },
   "outputs": [
    {
     "data": {
      "text/plain": [
       "array([[0.69866453]])"
      ]
     },
     "execution_count": 418,
     "metadata": {},
     "output_type": "execute_result"
    }
   ],
   "source": [
    "from sklearn.metrics.pairwise import cosine_distances # for one pair of samples we can just use this function\n",
    "\n",
    "# Your code goes here"
   ]
  },
  {
   "cell_type": "markdown",
   "metadata": {},
   "source": [
    "Let's compare this distance to the distance between the Barack Obama article and all of its Wikipedia nearest neighbors:"
   ]
  },
  {
   "cell_type": "code",
   "execution_count": 427,
   "metadata": {
    "collapsed": false,
    "jupyter": {
     "outputs_hidden": false
    }
   },
   "outputs": [
    {
     "data": {
      "text/html": [
       "<div>\n",
       "<style scoped>\n",
       "    .dataframe tbody tr th:only-of-type {\n",
       "        vertical-align: middle;\n",
       "    }\n",
       "\n",
       "    .dataframe tbody tr th {\n",
       "        vertical-align: top;\n",
       "    }\n",
       "\n",
       "    .dataframe thead th {\n",
       "        text-align: right;\n",
       "    }\n",
       "</style>\n",
       "<table border=\"1\" class=\"dataframe\">\n",
       "  <thead>\n",
       "    <tr style=\"text-align: right;\">\n",
       "      <th></th>\n",
       "      <th>name</th>\n",
       "      <th>length</th>\n",
       "      <th>BO TF-IDF cos</th>\n",
       "    </tr>\n",
       "  </thead>\n",
       "  <tbody>\n",
       "    <tr>\n",
       "      <td>35817</td>\n",
       "      <td>Barack Obama</td>\n",
       "      <td>540</td>\n",
       "      <td>0.000000</td>\n",
       "    </tr>\n",
       "    <tr>\n",
       "      <td>24478</td>\n",
       "      <td>Joe Biden</td>\n",
       "      <td>414</td>\n",
       "      <td>0.572725</td>\n",
       "    </tr>\n",
       "    <tr>\n",
       "      <td>57108</td>\n",
       "      <td>Hillary Rodham Clinton</td>\n",
       "      <td>580</td>\n",
       "      <td>0.616149</td>\n",
       "    </tr>\n",
       "    <tr>\n",
       "      <td>38376</td>\n",
       "      <td>Samantha Power</td>\n",
       "      <td>310</td>\n",
       "      <td>0.625797</td>\n",
       "    </tr>\n",
       "    <tr>\n",
       "      <td>38714</td>\n",
       "      <td>Eric Stern (politician)</td>\n",
       "      <td>255</td>\n",
       "      <td>0.651475</td>\n",
       "    </tr>\n",
       "    <tr>\n",
       "      <td>28447</td>\n",
       "      <td>George W. Bush</td>\n",
       "      <td>505</td>\n",
       "      <td>0.659478</td>\n",
       "    </tr>\n",
       "    <tr>\n",
       "      <td>39357</td>\n",
       "      <td>John McCain</td>\n",
       "      <td>410</td>\n",
       "      <td>0.661645</td>\n",
       "    </tr>\n",
       "    <tr>\n",
       "      <td>48693</td>\n",
       "      <td>Artur Davis</td>\n",
       "      <td>371</td>\n",
       "      <td>0.666690</td>\n",
       "    </tr>\n",
       "    <tr>\n",
       "      <td>18827</td>\n",
       "      <td>Henry Waxman</td>\n",
       "      <td>279</td>\n",
       "      <td>0.671226</td>\n",
       "    </tr>\n",
       "    <tr>\n",
       "      <td>37199</td>\n",
       "      <td>Barry Sullivan (lawyer)</td>\n",
       "      <td>893</td>\n",
       "      <td>0.673300</td>\n",
       "    </tr>\n",
       "    <tr>\n",
       "      <td>46811</td>\n",
       "      <td>Jeff Sessions</td>\n",
       "      <td>230</td>\n",
       "      <td>0.673581</td>\n",
       "    </tr>\n",
       "    <tr>\n",
       "      <td>36452</td>\n",
       "      <td>Bill Clinton</td>\n",
       "      <td>524</td>\n",
       "      <td>0.675260</td>\n",
       "    </tr>\n",
       "    <tr>\n",
       "      <td>6796</td>\n",
       "      <td>Eric Holder</td>\n",
       "      <td>232</td>\n",
       "      <td>0.677451</td>\n",
       "    </tr>\n",
       "    <tr>\n",
       "      <td>24848</td>\n",
       "      <td>John C. Eastman</td>\n",
       "      <td>366</td>\n",
       "      <td>0.679724</td>\n",
       "    </tr>\n",
       "    <tr>\n",
       "      <td>36425</td>\n",
       "      <td>Edward B. Montgomery</td>\n",
       "      <td>331</td>\n",
       "      <td>0.681387</td>\n",
       "    </tr>\n",
       "    <tr>\n",
       "      <td>14754</td>\n",
       "      <td>Mitt Romney</td>\n",
       "      <td>502</td>\n",
       "      <td>0.681761</td>\n",
       "    </tr>\n",
       "    <tr>\n",
       "      <td>35357</td>\n",
       "      <td>Lawrence Summers</td>\n",
       "      <td>413</td>\n",
       "      <td>0.687272</td>\n",
       "    </tr>\n",
       "    <tr>\n",
       "      <td>47303</td>\n",
       "      <td>John Kerry</td>\n",
       "      <td>410</td>\n",
       "      <td>0.692701</td>\n",
       "    </tr>\n",
       "    <tr>\n",
       "      <td>34344</td>\n",
       "      <td>Mary Dawson (civil servant)</td>\n",
       "      <td>434</td>\n",
       "      <td>0.696581</td>\n",
       "    </tr>\n",
       "    <tr>\n",
       "      <td>55181</td>\n",
       "      <td>Ron Paul</td>\n",
       "      <td>427</td>\n",
       "      <td>0.696642</td>\n",
       "    </tr>\n",
       "    <tr>\n",
       "      <td>4565</td>\n",
       "      <td>Robinson O. Everett</td>\n",
       "      <td>764</td>\n",
       "      <td>0.698133</td>\n",
       "    </tr>\n",
       "    <tr>\n",
       "      <td>46140</td>\n",
       "      <td>Robert Gibbs</td>\n",
       "      <td>257</td>\n",
       "      <td>0.698549</td>\n",
       "    </tr>\n",
       "    <tr>\n",
       "      <td>52859</td>\n",
       "      <td>Ann Lewis</td>\n",
       "      <td>634</td>\n",
       "      <td>0.698799</td>\n",
       "    </tr>\n",
       "  </tbody>\n",
       "</table>\n",
       "</div>"
      ],
      "text/plain": [
       "                              name  length  BO TF-IDF cos\n",
       "35817                 Barack Obama     540       0.000000\n",
       "24478                    Joe Biden     414       0.572725\n",
       "57108       Hillary Rodham Clinton     580       0.616149\n",
       "38376               Samantha Power     310       0.625797\n",
       "38714      Eric Stern (politician)     255       0.651475\n",
       "28447               George W. Bush     505       0.659478\n",
       "39357                  John McCain     410       0.661645\n",
       "48693                  Artur Davis     371       0.666690\n",
       "18827                 Henry Waxman     279       0.671226\n",
       "37199      Barry Sullivan (lawyer)     893       0.673300\n",
       "46811                Jeff Sessions     230       0.673581\n",
       "36452                 Bill Clinton     524       0.675260\n",
       "6796                   Eric Holder     232       0.677451\n",
       "24848              John C. Eastman     366       0.679724\n",
       "36425         Edward B. Montgomery     331       0.681387\n",
       "14754                  Mitt Romney     502       0.681761\n",
       "35357             Lawrence Summers     413       0.687272\n",
       "47303                   John Kerry     410       0.692701\n",
       "34344  Mary Dawson (civil servant)     434       0.696581\n",
       "55181                     Ron Paul     427       0.696642\n",
       "4565           Robinson O. Everett     764       0.698133\n",
       "46140                 Robert Gibbs     257       0.698549\n",
       "52859                    Ann Lewis     634       0.698799"
      ]
     },
     "execution_count": 427,
     "metadata": {},
     "output_type": "execute_result"
    }
   ],
   "source": [
    "nearest_neighbors_cosine[0:23]"
   ]
  },
  {
   "cell_type": "markdown",
   "metadata": {},
   "source": [
    "With cosine distances, the tweet is \"nearer\" to Barack Obama than most people! If someone is reading the Barack Obama Wikipedia page, would you want to recommend they read this tweet?\n",
    "In practice, it is common to enforce maximum or minimum document lengths. After all, when someone is reading a long article from _The Atlantic_, you wouldn't recommend him/her a tweet."
   ]
  }
 ],
 "metadata": {
  "anaconda-cloud": {},
  "kernelspec": {
   "display_name": "Python [conda env:anaconda2]",
   "language": "python",
   "name": "conda-env-anaconda2-py"
  },
  "language_info": {
   "codemirror_mode": {
    "name": "ipython",
    "version": 2
   },
   "file_extension": ".py",
   "mimetype": "text/x-python",
   "name": "python",
   "nbconvert_exporter": "python",
   "pygments_lexer": "ipython2",
   "version": "2.7.12"
  }
 },
 "nbformat": 4,
 "nbformat_minor": 4
}
