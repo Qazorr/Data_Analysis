{
 "cells": [
  {
   "cell_type": "markdown",
   "metadata": {},
   "source": [
    "# Analysis of [Google Play Store reviews](https://www.kaggle.com/datasets/prakharrathi25/google-play-store-reviews) by **Kacper Piątkowski**"
   ]
  },
  {
   "cell_type": "code",
   "execution_count": 154,
   "metadata": {
    "collapsed": false
   },
   "outputs": [
    {
     "data": {
      "text/html": [
       "<div>\n",
       "<style scoped>\n",
       "    .dataframe tbody tr th:only-of-type {\n",
       "        vertical-align: middle;\n",
       "    }\n",
       "\n",
       "    .dataframe tbody tr th {\n",
       "        vertical-align: top;\n",
       "    }\n",
       "\n",
       "    .dataframe thead th {\n",
       "        text-align: right;\n",
       "    }\n",
       "</style>\n",
       "<table border=\"1\" class=\"dataframe\">\n",
       "  <thead>\n",
       "    <tr style=\"text-align: right;\">\n",
       "      <th></th>\n",
       "      <th>reviewId</th>\n",
       "      <th>userName</th>\n",
       "      <th>userImage</th>\n",
       "      <th>content</th>\n",
       "      <th>score</th>\n",
       "      <th>thumbsUpCount</th>\n",
       "      <th>reviewCreatedVersion</th>\n",
       "      <th>at</th>\n",
       "      <th>replyContent</th>\n",
       "      <th>repliedAt</th>\n",
       "      <th>sortOrder</th>\n",
       "      <th>appId</th>\n",
       "    </tr>\n",
       "  </thead>\n",
       "  <tbody>\n",
       "    <tr>\n",
       "      <th>0</th>\n",
       "      <td>gp:AOqpTOEhZuqSqqWnaKRgv-9ABYdajFUB0WugPGh-SG-...</td>\n",
       "      <td>Eric Tie</td>\n",
       "      <td>https://play-lh.googleusercontent.com/a-/AOh14...</td>\n",
       "      <td>I cannot open the app anymore</td>\n",
       "      <td>1</td>\n",
       "      <td>0</td>\n",
       "      <td>5.4.0.6</td>\n",
       "      <td>2020-10-27 21:24:41</td>\n",
       "      <td>NaN</td>\n",
       "      <td>NaN</td>\n",
       "      <td>newest</td>\n",
       "      <td>com.anydo</td>\n",
       "    </tr>\n",
       "    <tr>\n",
       "      <th>1</th>\n",
       "      <td>gp:AOqpTOH0WP4IQKBZ2LrdNmFy_YmpPCVrV3diEU9KGm3...</td>\n",
       "      <td>john alpha</td>\n",
       "      <td>https://play-lh.googleusercontent.com/a-/AOh14...</td>\n",
       "      <td>I have been begging for a refund from this app...</td>\n",
       "      <td>1</td>\n",
       "      <td>0</td>\n",
       "      <td>NaN</td>\n",
       "      <td>2020-10-27 14:03:28</td>\n",
       "      <td>Please note that from checking our records, yo...</td>\n",
       "      <td>2020-10-27 15:05:52</td>\n",
       "      <td>newest</td>\n",
       "      <td>com.anydo</td>\n",
       "    </tr>\n",
       "    <tr>\n",
       "      <th>2</th>\n",
       "      <td>gp:AOqpTOEMCkJB8Iq1p-r9dPwnSYadA5BkPWTf32Z1azu...</td>\n",
       "      <td>Sudhakar .S</td>\n",
       "      <td>https://play-lh.googleusercontent.com/a-/AOh14...</td>\n",
       "      <td>Very costly for the premium version (approx In...</td>\n",
       "      <td>1</td>\n",
       "      <td>0</td>\n",
       "      <td>NaN</td>\n",
       "      <td>2020-10-27 08:18:40</td>\n",
       "      <td>NaN</td>\n",
       "      <td>NaN</td>\n",
       "      <td>newest</td>\n",
       "      <td>com.anydo</td>\n",
       "    </tr>\n",
       "    <tr>\n",
       "      <th>3</th>\n",
       "      <td>gp:AOqpTOGFrUWuKGycpje8kszj3uwHN6tU_fd4gLVFy9z...</td>\n",
       "      <td>SKGflorida@bellsouth.net DAVID S</td>\n",
       "      <td>https://play-lh.googleusercontent.com/-75aK0WF...</td>\n",
       "      <td>Used to keep me organized, but all the 2020 UP...</td>\n",
       "      <td>1</td>\n",
       "      <td>0</td>\n",
       "      <td>NaN</td>\n",
       "      <td>2020-10-26 13:28:07</td>\n",
       "      <td>What do you find troublesome about the update?...</td>\n",
       "      <td>2020-10-26 14:58:29</td>\n",
       "      <td>newest</td>\n",
       "      <td>com.anydo</td>\n",
       "    </tr>\n",
       "    <tr>\n",
       "      <th>4</th>\n",
       "      <td>gp:AOqpTOHls7DW8wmDFzTkHwxuqFkdNQtKHmO6Pt9jhZE...</td>\n",
       "      <td>Louann Stoker</td>\n",
       "      <td>https://play-lh.googleusercontent.com/-pBcY_Z-...</td>\n",
       "      <td>Dan Birthday Oct 28</td>\n",
       "      <td>1</td>\n",
       "      <td>0</td>\n",
       "      <td>5.6.0.7</td>\n",
       "      <td>2020-10-26 06:10:50</td>\n",
       "      <td>NaN</td>\n",
       "      <td>NaN</td>\n",
       "      <td>newest</td>\n",
       "      <td>com.anydo</td>\n",
       "    </tr>\n",
       "  </tbody>\n",
       "</table>\n",
       "</div>"
      ],
      "text/plain": [
       "                                            reviewId  \\\n",
       "0  gp:AOqpTOEhZuqSqqWnaKRgv-9ABYdajFUB0WugPGh-SG-...   \n",
       "1  gp:AOqpTOH0WP4IQKBZ2LrdNmFy_YmpPCVrV3diEU9KGm3...   \n",
       "2  gp:AOqpTOEMCkJB8Iq1p-r9dPwnSYadA5BkPWTf32Z1azu...   \n",
       "3  gp:AOqpTOGFrUWuKGycpje8kszj3uwHN6tU_fd4gLVFy9z...   \n",
       "4  gp:AOqpTOHls7DW8wmDFzTkHwxuqFkdNQtKHmO6Pt9jhZE...   \n",
       "\n",
       "                           userName  \\\n",
       "0                          Eric Tie   \n",
       "1                        john alpha   \n",
       "2                       Sudhakar .S   \n",
       "3  SKGflorida@bellsouth.net DAVID S   \n",
       "4                     Louann Stoker   \n",
       "\n",
       "                                           userImage  \\\n",
       "0  https://play-lh.googleusercontent.com/a-/AOh14...   \n",
       "1  https://play-lh.googleusercontent.com/a-/AOh14...   \n",
       "2  https://play-lh.googleusercontent.com/a-/AOh14...   \n",
       "3  https://play-lh.googleusercontent.com/-75aK0WF...   \n",
       "4  https://play-lh.googleusercontent.com/-pBcY_Z-...   \n",
       "\n",
       "                                             content  score  thumbsUpCount  \\\n",
       "0                      I cannot open the app anymore      1              0   \n",
       "1  I have been begging for a refund from this app...      1              0   \n",
       "2  Very costly for the premium version (approx In...      1              0   \n",
       "3  Used to keep me organized, but all the 2020 UP...      1              0   \n",
       "4                                Dan Birthday Oct 28      1              0   \n",
       "\n",
       "  reviewCreatedVersion                   at  \\\n",
       "0              5.4.0.6  2020-10-27 21:24:41   \n",
       "1                  NaN  2020-10-27 14:03:28   \n",
       "2                  NaN  2020-10-27 08:18:40   \n",
       "3                  NaN  2020-10-26 13:28:07   \n",
       "4              5.6.0.7  2020-10-26 06:10:50   \n",
       "\n",
       "                                        replyContent            repliedAt  \\\n",
       "0                                                NaN                  NaN   \n",
       "1  Please note that from checking our records, yo...  2020-10-27 15:05:52   \n",
       "2                                                NaN                  NaN   \n",
       "3  What do you find troublesome about the update?...  2020-10-26 14:58:29   \n",
       "4                                                NaN                  NaN   \n",
       "\n",
       "  sortOrder      appId  \n",
       "0    newest  com.anydo  \n",
       "1    newest  com.anydo  \n",
       "2    newest  com.anydo  \n",
       "3    newest  com.anydo  \n",
       "4    newest  com.anydo  "
      ]
     },
     "execution_count": 154,
     "metadata": {},
     "output_type": "execute_result"
    }
   ],
   "source": [
    "import pandas as pd\n",
    "import numpy as np\n",
    "import matplotlib.pyplot as plt\n",
    "import string\n",
    "from sklearn.linear_model import LogisticRegression\n",
    "from sklearn.model_selection import train_test_split\n",
    "from sklearn.feature_extraction.text import CountVectorizer\n",
    "\n",
    "class colors:\n",
    "    POSITIVE = '\\033[92m'\n",
    "    NEGATIVE = '\\033[91m'\n",
    "    RESET = '\\033[0m'\n",
    "\n",
    "def remove_punctuation(text):\n",
    "    translator = str.maketrans('', '', string.punctuation)\n",
    "    return text.translate(translator)\n",
    "\n",
    "def lines(text=''):\n",
    "    return f'{text:-^70}'\n",
    "\n",
    "iterations = 2000\n",
    "\n",
    "gplay_df = pd.read_csv('reviews.csv')\n",
    "gplay_df.head()"
   ]
  },
  {
   "cell_type": "code",
   "execution_count": 155,
   "metadata": {
    "collapsed": false
   },
   "outputs": [
    {
     "name": "stdout",
     "output_type": "stream",
     "text": [
      "---------------------------Dropping columns---------------------------\n",
      "reviewId userName userImage reviewCreatedVersion at repliedAt sortOrder\n",
      "----------------------------------------------------------------------\n",
      "Dataset size: (12495, 5)\n"
     ]
    },
    {
     "data": {
      "text/html": [
       "<div>\n",
       "<style scoped>\n",
       "    .dataframe tbody tr th:only-of-type {\n",
       "        vertical-align: middle;\n",
       "    }\n",
       "\n",
       "    .dataframe tbody tr th {\n",
       "        vertical-align: top;\n",
       "    }\n",
       "\n",
       "    .dataframe thead th {\n",
       "        text-align: right;\n",
       "    }\n",
       "</style>\n",
       "<table border=\"1\" class=\"dataframe\">\n",
       "  <thead>\n",
       "    <tr style=\"text-align: right;\">\n",
       "      <th></th>\n",
       "      <th>content</th>\n",
       "      <th>score</th>\n",
       "      <th>thumbsUpCount</th>\n",
       "      <th>replyContent</th>\n",
       "      <th>appId</th>\n",
       "    </tr>\n",
       "  </thead>\n",
       "  <tbody>\n",
       "    <tr>\n",
       "      <th>0</th>\n",
       "      <td>I cannot open the app anymore</td>\n",
       "      <td>1</td>\n",
       "      <td>0</td>\n",
       "      <td>NaN</td>\n",
       "      <td>com.anydo</td>\n",
       "    </tr>\n",
       "    <tr>\n",
       "      <th>1</th>\n",
       "      <td>I have been begging for a refund from this app...</td>\n",
       "      <td>1</td>\n",
       "      <td>0</td>\n",
       "      <td>Please note that from checking our records, yo...</td>\n",
       "      <td>com.anydo</td>\n",
       "    </tr>\n",
       "    <tr>\n",
       "      <th>2</th>\n",
       "      <td>Very costly for the premium version (approx In...</td>\n",
       "      <td>1</td>\n",
       "      <td>0</td>\n",
       "      <td>NaN</td>\n",
       "      <td>com.anydo</td>\n",
       "    </tr>\n",
       "    <tr>\n",
       "      <th>3</th>\n",
       "      <td>Used to keep me organized, but all the 2020 UP...</td>\n",
       "      <td>1</td>\n",
       "      <td>0</td>\n",
       "      <td>What do you find troublesome about the update?...</td>\n",
       "      <td>com.anydo</td>\n",
       "    </tr>\n",
       "    <tr>\n",
       "      <th>4</th>\n",
       "      <td>Dan Birthday Oct 28</td>\n",
       "      <td>1</td>\n",
       "      <td>0</td>\n",
       "      <td>NaN</td>\n",
       "      <td>com.anydo</td>\n",
       "    </tr>\n",
       "  </tbody>\n",
       "</table>\n",
       "</div>"
      ],
      "text/plain": [
       "                                             content  score  thumbsUpCount  \\\n",
       "0                      I cannot open the app anymore      1              0   \n",
       "1  I have been begging for a refund from this app...      1              0   \n",
       "2  Very costly for the premium version (approx In...      1              0   \n",
       "3  Used to keep me organized, but all the 2020 UP...      1              0   \n",
       "4                                Dan Birthday Oct 28      1              0   \n",
       "\n",
       "                                        replyContent      appId  \n",
       "0                                                NaN  com.anydo  \n",
       "1  Please note that from checking our records, yo...  com.anydo  \n",
       "2                                                NaN  com.anydo  \n",
       "3  What do you find troublesome about the update?...  com.anydo  \n",
       "4                                                NaN  com.anydo  "
      ]
     },
     "execution_count": 155,
     "metadata": {},
     "output_type": "execute_result"
    }
   ],
   "source": [
    "dropped = ['reviewId','userName','userImage','reviewCreatedVersion','at','repliedAt','sortOrder']\n",
    "print(lines('Dropping columns'))\n",
    "print(*dropped)\n",
    "print(lines())\n",
    "gplay_df = gplay_df.drop(columns=dropped)\n",
    "print(f'Dataset size: {gplay_df.shape}')\n",
    "gplay_df.head()"
   ]
  },
  {
   "cell_type": "markdown",
   "metadata": {},
   "source": [
    "# Note:\n",
    "    First of all I wanted to clean up the dataset, so I dropped some of the columns that made no sense to analize like userId, userImage and so on."
   ]
  },
  {
   "cell_type": "code",
   "execution_count": 156,
   "metadata": {},
   "outputs": [
    {
     "data": {
      "image/png": "[encoded data removed]",
      "text/plain": [
       "<Figure size 640x480 with 1 Axes>"
      ]
     },
     "metadata": {},
     "output_type": "display_data"
    }
   ],
   "source": [
    "gplay_df.score.value_counts().sort_index().plot(kind='bar', rot=0, xlabel='score', ylabel='count')\n",
    "plt.show()"
   ]
  },
  {
   "cell_type": "markdown",
   "metadata": {},
   "source": [
    "# Note:\n",
    "    We can see that there are mostly positive scores given by the users and the score '3' is least used - which is good for us - because we will remove all the reviews with neutral sentiment - meaning we will have more data to analyze."
   ]
  },
  {
   "cell_type": "code",
   "execution_count": 157,
   "metadata": {},
   "outputs": [
    {
     "data": {
      "text/plain": [
       "[]"
      ]
     },
     "execution_count": 157,
     "metadata": {},
     "output_type": "execute_result"
    },
    {
     "data": {
      "image/png": "[encoded data removed]",
      "text/plain": [
       "<Figure size 640x480 with 1 Axes>"
      ]
     },
     "metadata": {},
     "output_type": "display_data"
    }
   ],
   "source": [
    "plt.scatter(gplay_df.score, gplay_df.thumbsUpCount)\n",
    "plt.xlabel('score')\n",
    "plt.ylabel('thumbs up amount')\n",
    "plt.xticks(gplay_df.score.unique())\n",
    "plt.plot()"
   ]
  },
  {
   "cell_type": "markdown",
   "metadata": {},
   "source": [
    "# Note:\n",
    "    There's no correlation between thumbs up amount and the score - but we can see that there are a lot of 3-scored reviews with lots of thumbs up (which can be viewed as weird - because it has neutral sentiment, but the 3-scored reviews mostly contain many pros and cons - meaning they could give a good overall rating of the product)"
   ]
  },
  {
   "cell_type": "code",
   "execution_count": 158,
   "metadata": {
    "collapsed": false
   },
   "outputs": [
    {
     "name": "stdout",
     "output_type": "stream",
     "text": [
      "-------------------------removing punctuation-------------------------\n",
      "Empty DataFrame\n",
      "Columns: [content, score, thumbsUpCount, replyContent, appId]\n",
      "Index: []\n",
      "----------------------removing neutral sentiment----------------------\n",
      "Amount of rows in which rating column is 3: 1991\n",
      "Amount of rows in which rating column is 3: 0\n",
      "--------------------------classifing scores---------------------------\n",
      "Amount of ratings with ratting different than -1 or 1: 7998\n",
      "Amount of ratings with ratting different than -1 or 1: 0\n",
      "----------------------------------------------------------------------\n"
     ]
    }
   ],
   "source": [
    "print(lines('removing punctuation'))\n",
    "\n",
    "gplay_df['content'] = gplay_df['content'].apply(lambda x: remove_punctuation(x) if isinstance(x, str) else '')\n",
    "print(gplay_df[gplay_df['content'].isna()])\n",
    "\n",
    "print(lines('removing neutral sentiment'))\n",
    "\n",
    "print(f'Amount of rows in which rating column is 3: {sum(gplay_df[\"score\"] == 3)}')\n",
    "gplay_df = gplay_df[gplay_df.score != 3]\n",
    "print(f'Amount of rows in which rating column is 3: {sum(gplay_df[\"score\"] == 3)}')\n",
    "\n",
    "print(lines('classifing scores'))\n",
    "\n",
    "print(f'Amount of ratings with ratting different than -1 or 1: {sum(gplay_df[\"score\"]**2 != 1)}')\n",
    "gplay_df.loc[gplay_df[\"score\"] <= 2, \"score\"] = -1\n",
    "gplay_df.loc[gplay_df[\"score\"] >= 4, \"score\"] = 1\n",
    "print(f'Amount of ratings with ratting different than -1 or 1: {sum(gplay_df[\"score\"]**2 != 1)}')\n",
    "\n",
    "print(lines(''))"
   ]
  },
  {
   "cell_type": "markdown",
   "metadata": {},
   "source": [
    "# Note:\n",
    "    Next up I classified the data:\n",
    "1) I dropped all the rows in which the score was 3 (so the reviews were having neutral sentiment [there were 5 possible scores: 1,2,3,4,5])\n",
    "2) Next up I've changed all positive reviews ($\\geq$ 4) to 1 and negative ($\\leq$ 2) to -1 "
   ]
  },
  {
   "cell_type": "code",
   "execution_count": 159,
   "metadata": {
    "collapsed": true
   },
   "outputs": [
    {
     "name": "stdout",
     "output_type": "stream",
     "text": [
      "(7352, 10014)\n"
     ]
    }
   ],
   "source": [
    "smaller_df = gplay_df[:]\n",
    "X_train, X_test, y_train, y_test = train_test_split(smaller_df['content'], smaller_df['score'], test_size=0.3, random_state=44)\n",
    "vectorizer = CountVectorizer()\n",
    "X_train = vectorizer.fit_transform(X_train)\n",
    "X_test = vectorizer.transform(X_test)\n",
    "print(np.shape(X_train))"
   ]
  },
  {
   "cell_type": "markdown",
   "metadata": {},
   "source": [
    "# Note:\n",
    "    I made the vectorization using the training dataset (0.3 of the original dataset) and received a vector of size (7352, 10014)."
   ]
  },
  {
   "cell_type": "code",
   "execution_count": 160,
   "metadata": {
    "collapsed": true
   },
   "outputs": [
    {
     "data": {
      "text/html": [
       "<style>#sk-container-id-12 {color: black;background-color: white;}#sk-container-id-12 pre{padding: 0;}#sk-container-id-12 div.sk-toggleable {background-color: white;}#sk-container-id-12 label.sk-toggleable__label {cursor: pointer;display: block;width: 100%;margin-bottom: 0;padding: 0.3em;box-sizing: border-box;text-align: center;}#sk-container-id-12 label.sk-toggleable__label-arrow:before {content: \"▸\";float: left;margin-right: 0.25em;color: #696969;}#sk-container-id-12 label.sk-toggleable__label-arrow:hover:before {color: black;}#sk-container-id-12 div.sk-estimator:hover label.sk-toggleable__label-arrow:before {color: black;}#sk-container-id-12 div.sk-toggleable__content {max-height: 0;max-width: 0;overflow: hidden;text-align: left;background-color: #f0f8ff;}#sk-container-id-12 div.sk-toggleable__content pre {margin: 0.2em;color: black;border-radius: 0.25em;background-color: #f0f8ff;}#sk-container-id-12 input.sk-toggleable__control:checked~div.sk-toggleable__content {max-height: 200px;max-width: 100%;overflow: auto;}#sk-container-id-12 input.sk-toggleable__control:checked~label.sk-toggleable__label-arrow:before {content: \"▾\";}#sk-container-id-12 div.sk-estimator input.sk-toggleable__control:checked~label.sk-toggleable__label {background-color: #d4ebff;}#sk-container-id-12 div.sk-label input.sk-toggleable__control:checked~label.sk-toggleable__label {background-color: #d4ebff;}#sk-container-id-12 input.sk-hidden--visually {border: 0;clip: rect(1px 1px 1px 1px);clip: rect(1px, 1px, 1px, 1px);height: 1px;margin: -1px;overflow: hidden;padding: 0;position: absolute;width: 1px;}#sk-container-id-12 div.sk-estimator {font-family: monospace;background-color: #f0f8ff;border: 1px dotted black;border-radius: 0.25em;box-sizing: border-box;margin-bottom: 0.5em;}#sk-container-id-12 div.sk-estimator:hover {background-color: #d4ebff;}#sk-container-id-12 div.sk-parallel-item::after {content: \"\";width: 100%;border-bottom: 1px solid gray;flex-grow: 1;}#sk-container-id-12 div.sk-label:hover label.sk-toggleable__label {background-color: #d4ebff;}#sk-container-id-12 div.sk-serial::before {content: \"\";position: absolute;border-left: 1px solid gray;box-sizing: border-box;top: 0;bottom: 0;left: 50%;z-index: 0;}#sk-container-id-12 div.sk-serial {display: flex;flex-direction: column;align-items: center;background-color: white;padding-right: 0.2em;padding-left: 0.2em;position: relative;}#sk-container-id-12 div.sk-item {position: relative;z-index: 1;}#sk-container-id-12 div.sk-parallel {display: flex;align-items: stretch;justify-content: center;background-color: white;position: relative;}#sk-container-id-12 div.sk-item::before, #sk-container-id-12 div.sk-parallel-item::before {content: \"\";position: absolute;border-left: 1px solid gray;box-sizing: border-box;top: 0;bottom: 0;left: 50%;z-index: -1;}#sk-container-id-12 div.sk-parallel-item {display: flex;flex-direction: column;z-index: 1;position: relative;background-color: white;}#sk-container-id-12 div.sk-parallel-item:first-child::after {align-self: flex-end;width: 50%;}#sk-container-id-12 div.sk-parallel-item:last-child::after {align-self: flex-start;width: 50%;}#sk-container-id-12 div.sk-parallel-item:only-child::after {width: 0;}#sk-container-id-12 div.sk-dashed-wrapped {border: 1px dashed gray;margin: 0 0.4em 0.5em 0.4em;box-sizing: border-box;padding-bottom: 0.4em;background-color: white;}#sk-container-id-12 div.sk-label label {font-family: monospace;font-weight: bold;display: inline-block;line-height: 1.2em;}#sk-container-id-12 div.sk-label-container {text-align: center;}#sk-container-id-12 div.sk-container {/* jupyter's `normalize.less` sets `[hidden] { display: none; }` but bootstrap.min.css set `[hidden] { display: none !important; }` so we also need the `!important` here to be able to override the default hidden behavior on the sphinx rendered scikit-learn.org. See: https://github.com/scikit-learn/scikit-learn/issues/21755 */display: inline-block !important;position: relative;}#sk-container-id-12 div.sk-text-repr-fallback {display: none;}</style><div id=\"sk-container-id-12\" class=\"sk-top-container\"><div class=\"sk-text-repr-fallback\"><pre>LogisticRegression(max_iter=2000)</pre><b>In a Jupyter environment, please rerun this cell to show the HTML representation or trust the notebook. <br />On GitHub, the HTML representation is unable to render, please try loading this page with nbviewer.org.</b></div><div class=\"sk-container\" hidden><div class=\"sk-item\"><div class=\"sk-estimator sk-toggleable\"><input class=\"sk-toggleable__control sk-hidden--visually\" id=\"sk-estimator-id-12\" type=\"checkbox\" checked><label for=\"sk-estimator-id-12\" class=\"sk-toggleable__label sk-toggleable__label-arrow\">LogisticRegression</label><div class=\"sk-toggleable__content\"><pre>LogisticRegression(max_iter=2000)</pre></div></div></div></div></div>"
      ],
      "text/plain": [
       "LogisticRegression(max_iter=2000)"
      ]
     },
     "execution_count": 160,
     "metadata": {},
     "output_type": "execute_result"
    }
   ],
   "source": [
    "model = LogisticRegression(max_iter=iterations)\n",
    "model.fit(X_train, y_train)"
   ]
  },
  {
   "cell_type": "code",
   "execution_count": 161,
   "metadata": {
    "collapsed": true
   },
   "outputs": [
    {
     "name": "stdout",
     "output_type": "stream",
     "text": [
      "Most positive words: excellent amazing great love best helps nice easy awesome helpful\n",
      "Most negative words: useless uninstalled disappointed complicated uninstall not deleted horrible expensive worst\n"
     ]
    }
   ],
   "source": [
    "coefs = model.coef_.reshape(-1, 1)\n",
    "new_coefs = np.array([coef[0] for coef in coefs])\n",
    "\n",
    "most_positive_idx = (-new_coefs).argsort()[:10]\n",
    "most_negative_idx = new_coefs.argsort()[:10]\n",
    "\n",
    "most_positive = [vectorizer.get_feature_names_out()[i] for i in most_positive_idx]\n",
    "most_negative = [vectorizer.get_feature_names_out()[i] for i in most_negative_idx]\n",
    "\n",
    "print('Most positive words:', *most_positive)\n",
    "print('Most negative words:', *most_negative)"
   ]
  },
  {
   "cell_type": "markdown",
   "metadata": {},
   "source": [
    "# Note:\n",
    "    We can see that the positive and the negative words fit nicely in their category (even though there are some exceptions like 'not' in negative words [of course we can say that the app is 'not bad'] but by analyzing word by word we can't analyze sequences like 'not bad')"
   ]
  },
  {
   "cell_type": "code",
   "execution_count": 162,
   "metadata": {
    "collapsed": true
   },
   "outputs": [
    {
     "name": "stdout",
     "output_type": "stream",
     "text": [
      "----------------------------------------------------------------------\n",
      "Most negative reviews row numbers: 2563 2899 117 809 1882\n",
      "Most positive reviews row numbers: 3104 2817 2139 1563 562\n",
      "----------------------------------------------------------------------\n",
      "\u001b[91mred \u001b[0m means a negative review (value == -1)\n",
      "\u001b[92mgreen \u001b[0m means a positive review (value == 1)\n",
      "------------Most positive reviews according to probability------------\n",
      "\t\u001b[92m3104:\u001b[0m Really love this I enjoy the complexity and the fact that you can buy rewards for keeping up with stuff and that there and consequences for not doing your dailies\n",
      "\t\u001b[92m2817:\u001b[0m I love thats application but l Will to be in spanish version I love thats application but l Will be like to be in spanish version\n",
      "\t\u001b[92m2139:\u001b[0m Helps me accomplish my tasks\n",
      "\t\u001b[92m1563:\u001b[0m Been using this app for 3 years\n",
      "\t\u001b[92m562:\u001b[0m This app is good I use it daily and it runs my life I have too many tasks though and anydos plan my day feature is good at forcing me to postpone stuff to next week repeatedly Pls add a built in optional Eisenhower matrix tagging system  tag each item with a quadrant label Add a matrix view option to view all todays tasks in quadrant view with filters for specific list only or all items Its hard work retyping any do items into other apps to view like this\n",
      "------------Most negative reviews according to probability------------\n",
      "\t\u001b[91m2563:\u001b[0m Constant connection drop outs Will update review when this is fixed\n",
      "\t\u001b[92m2899:\u001b[0m It worked fine for a while but now every time I click on a taskhabitgoal to edit the app crashes I can tick off the task and plus on the habit just fine but I cant edit anything now Please look into fixing it soon Edit thank you the latest update fixed it all\n",
      "\t\u001b[91m117:\u001b[0m Laggy responses to resolved items and errors in recurring reminders\n",
      "\t\u001b[91m809:\u001b[0m No reminder options for free version of this app How can one purchase without having the opportunity basic experience of what such app is really needed for My alarm clock would be better than this app Sorry I dont recommend\n",
      "\t\u001b[91m1882:\u001b[0m widget is not working completely It does not sync with the app Plz solve this problem\n",
      "----------------------------------------------------------------------\n",
      "Model score: 0.8575507614213198\n",
      "----------------------------------------------------------------------\n"
     ]
    }
   ],
   "source": [
    "y_pred_prob = model.predict_proba(X_test)\n",
    "\n",
    "negative = y_pred_prob[:, 0]\n",
    "positive = y_pred_prob[:, 1]\n",
    "\n",
    "most_negative_idx = (-negative).argsort()[:5]\n",
    "most_positive_idx = positive.argsort()[-5:]\n",
    "\n",
    "print(lines())\n",
    "print('Most negative reviews row numbers:', *most_negative_idx)\n",
    "print('Most positive reviews row numbers:', *most_positive_idx)\n",
    "print(lines())\n",
    "\n",
    "print(f'{colors.NEGATIVE}red {colors.RESET} means a negative review (value == -1)')\n",
    "print(f'{colors.POSITIVE}green {colors.RESET} means a positive review (value == 1)')\n",
    "\n",
    "_ = 'Most positive reviews according to probability'\n",
    "print(lines(_))\n",
    "\n",
    "for idx in most_positive_idx:\n",
    "    color = colors.POSITIVE if np.array(smaller_df['score'])[idx] == 1 else colors.NEGATIVE\n",
    "    print(f'\\t{color}{idx}:{colors.RESET}', np.array(smaller_df['content'])[idx])\n",
    "\n",
    "_ = _.replace('positive', 'negative')\n",
    "print(lines(_))\n",
    "\n",
    "for idx in most_negative_idx:\n",
    "    color = colors.POSITIVE if np.array(smaller_df['score'])[idx] == 1 else colors.NEGATIVE\n",
    "    print(f'\\t{color}{idx}:{colors.RESET}',np.array(smaller_df['content'])[idx])\n",
    "\n",
    "print(lines())\n",
    "print(f'Model score: {model.score(X_test, y_test)}')\n",
    "print(lines())"
   ]
  },
  {
   "cell_type": "markdown",
   "metadata": {},
   "source": [
    "# Note:\n",
    "    From the reviews we can see that the model correctly predicted positive reviews (as they are also positive in the original dataset) and when it comes to most negative reviews one of the predicted as negative (2899) was originally positive (possibly because the review is quite long and the words density makes the prediction worse)\n",
    "    \n",
    "    What I found really interesting is that most of the positive requests seem shorter than the negative ones (of course there's review 562 - but there's always exception to the rule)\n",
    "\n",
    "    The model score was 0.857 which is a quite high of a score - meaning that the data was correcly split."
   ]
  },
  {
   "cell_type": "code",
   "execution_count": 163,
   "metadata": {
    "collapsed": true
   },
   "outputs": [],
   "source": [
    "significant_words = [*most_positive, *most_negative]"
   ]
  },
  {
   "cell_type": "code",
   "execution_count": 164,
   "metadata": {
    "collapsed": true
   },
   "outputs": [
    {
     "name": "stdout",
     "output_type": "stream",
     "text": [
      "Most positive words: helps excellent helpful amazing easy best nice awesome love great\n",
      "Most negative words: useless uninstalled disappointed uninstall deleted horrible worst expensive complicated not\n",
      "\n",
      "Most positive reviews row numbers: 845 2760 2817 990 562\n",
      "Most negative reviews row numbers: 2899 1367 1450 1617 2130\n",
      "\n",
      "\u001b[91mred \u001b[0m means a negative review (value == -1)\n",
      "\u001b[92mgreen \u001b[0m means a positive review (value == 1)\n",
      "\n",
      "------------Most positive reviews according to probability------------\n",
      "\t\u001b[91m845:\u001b[0m For sure this app is good enough but After a year of usage they added reminder feature to a premium access Without reminders your app is useless Thanks a lot Even comments went to premium Completely useless app\n",
      "\t\u001b[91m2760:\u001b[0m Glitches abound Inputs ignored not given options to make habits at points\n",
      "\t\u001b[92m2817:\u001b[0m I love thats application but l Will to be in spanish version I love thats application but l Will be like to be in spanish version\n",
      "\t\u001b[91m990:\u001b[0m I will use other app I will not pay\n",
      "\t\u001b[92m562:\u001b[0m This app is good I use it daily and it runs my life I have too many tasks though and anydos plan my day feature is good at forcing me to postpone stuff to next week repeatedly Pls add a built in optional Eisenhower matrix tagging system  tag each item with a quadrant label Add a matrix view option to view all todays tasks in quadrant view with filters for specific list only or all items Its hard work retyping any do items into other apps to view like this\n",
      "\n",
      "------------Most negative reviews according to probability------------\n",
      "\t\u001b[92m2899:\u001b[0m It worked fine for a while but now every time I click on a taskhabitgoal to edit the app crashes I can tick off the task and plus on the habit just fine but I cant edit anything now Please look into fixing it soon Edit thank you the latest update fixed it all\n",
      "\t\u001b[92m1367:\u001b[0m Good app that reminds me of my daily tasks\n",
      "\t\u001b[92m1450:\u001b[0m Very useful I love it 🥰\n",
      "\t\u001b[91m1617:\u001b[0m How do you sync This is next to worthless unless you can sync\n",
      "\t\u001b[92m2130:\u001b[0m No doubt it’s the best productivity app It is very smooth and customizable I liked the idea of adding a Pomo Timer  Habit tracker Having all this features made this app unique  amazing But the prize of the premium package is little high thats why im not gonna give you 5 Stars Anyway it’s a great app 🔥\n",
      "----------------------------------------------------------------------\n",
      "Model score: 0.6897208121827412\n"
     ]
    }
   ],
   "source": [
    "X_train, X_test, y_train, y_test = train_test_split(smaller_df['content'], smaller_df['score'], test_size=0.3, random_state=44)\n",
    "vectorizer = CountVectorizer(vocabulary=significant_words)\n",
    "X_train = vectorizer.fit_transform(X_train)\n",
    "X_test = vectorizer.transform(X_test)\n",
    "model = LogisticRegression(max_iter=iterations)\n",
    "model.fit(X_train, y_train)\n",
    "\n",
    "coefs = model.coef_.reshape(-1, 1)\n",
    "new_coefs = np.array([coef[0] for coef in coefs])\n",
    "\n",
    "most_positive_idx = (-new_coefs).argsort()[:10]\n",
    "most_negative_idx = new_coefs.argsort()[:10]\n",
    "\n",
    "most_positive = [vectorizer.get_feature_names_out()[i] for i in most_positive_idx]\n",
    "most_negative = [vectorizer.get_feature_names_out()[i] for i in most_negative_idx]\n",
    "\n",
    "print('Most positive words:', *most_positive)\n",
    "print('Most negative words:', *most_negative, end='\\n\\n')\n",
    "y_pred = model.predict(X_test)\n",
    "y_pred_prob = model.predict_proba(X_test)\n",
    "negative = y_pred_prob[:, 0]\n",
    "positive = y_pred_prob[:, 1]\n",
    "\n",
    "most_negative_idx = (-negative).argsort()[:5]\n",
    "most_positive_idx = positive.argsort()[-5:]\n",
    "print('Most positive reviews row numbers:', *most_positive_idx)\n",
    "print('Most negative reviews row numbers:', *most_negative_idx, end='\\n\\n')\n",
    "\n",
    "print(f'{colors.NEGATIVE}red {colors.RESET} means a negative review (value == -1)')\n",
    "print(f'{colors.POSITIVE}green {colors.RESET} means a positive review (value == 1)')\n",
    "\n",
    "_ = 'Most positive reviews according to probability'\n",
    "print(f'\\n{_:-^70}')\n",
    "for idx in most_positive_idx:\n",
    "    color = colors.POSITIVE if np.array(smaller_df['score'])[idx] == 1 else colors.NEGATIVE\n",
    "    print(f'\\t{color}{idx}:{colors.RESET}', np.array(smaller_df['content'])[idx])\n",
    "\n",
    "_ = _.replace('positive', 'negative')\n",
    "print(f'\\n{_:-^70}')\n",
    "for idx in most_negative_idx:\n",
    "    color = colors.POSITIVE if np.array(smaller_df['score'])[idx] == 1 else colors.NEGATIVE\n",
    "    print(f'\\t{color}{idx}:{colors.RESET}',np.array(smaller_df['content'])[idx])\n",
    "print('-'*70)\n",
    "\n",
    "print(f'Model score: {model.score(X_test, y_test)}')"
   ]
  },
  {
   "cell_type": "markdown",
   "metadata": {},
   "source": [
    "# Note:\n",
    "    Using the limited dictionary we achieved worse results - the model score is now 0.689 (19.57% worse than the previous one).\n",
    "    \n",
    "    The positive reviews even though predicted as the most positive by the model were mostly negative (3/5) in the original dataset and the same applies to the negative ones - even though predicted as the most negative they were mostly positive (and if we read them - e.x. 1450 it's obvious that they are positive)\n",
    "\n",
    "    The most positive/negative predictions may be bad because we took a bad vocabulary (or to short of a vocabulary). If we want to increate the score of the predictions we should think about adding more words to vocabulary."
   ]
  },
  {
   "cell_type": "code",
   "execution_count": 165,
   "metadata": {
    "collapsed": true
   },
   "outputs": [
    {
     "name": "stdout",
     "output_type": "stream",
     "text": [
      "\u001b[91m-3.24225\u001b[0m: useless\n",
      "\u001b[91m-2.75973\u001b[0m: uninstalled\n",
      "\u001b[91m-2.65138\u001b[0m: disappointed\n",
      "\u001b[91m-2.49819\u001b[0m: uninstall\n",
      "\u001b[91m-2.31202\u001b[0m: deleted\n",
      "\u001b[91m-2.11415\u001b[0m: horrible\n",
      "\u001b[91m-1.91239\u001b[0m: worst\n",
      "\u001b[91m-1.53037\u001b[0m: expensive\n",
      "\u001b[91m-1.49108\u001b[0m: complicated\n",
      "\u001b[91m-1.35128\u001b[0m: not\n",
      "\u001b[92m 1.29826\u001b[0m: great\n",
      "\u001b[92m 1.36424\u001b[0m: love\n",
      "\u001b[92m 1.54518\u001b[0m: awesome\n",
      "\u001b[92m 1.64783\u001b[0m: nice\n",
      "\u001b[92m 1.78303\u001b[0m: best\n",
      "\u001b[92m 1.83611\u001b[0m: easy\n",
      "\u001b[92m 1.92519\u001b[0m: amazing\n",
      "\u001b[92m 1.94693\u001b[0m: helpful\n",
      "\u001b[92m 2.12569\u001b[0m: excellent\n",
      "\u001b[92m 2.32644\u001b[0m: helps\n"
     ]
    }
   ],
   "source": [
    "coefs = np.array([coef for coef in model.coef_[0]])\n",
    "idx = coefs.argsort()\n",
    "for i in idx:\n",
    "    color = colors.POSITIVE if coefs[i] > 0 else colors.NEGATIVE\n",
    "    print(f'{color}{round(coefs[i],5):>8}{colors.RESET}: {vectorizer.get_feature_names_out()[i]}')"
   ]
  },
  {
   "cell_type": "markdown",
   "metadata": {},
   "source": [
    "# Note:\n",
    "    We can see that the most negative words were: useless, uninstalled, disappointed - all having negative meaning in english\n",
    "\n",
    "    When it comes to positive words they were: helps, excellent, amazing - all of them having a very positive meaning in english\n",
    "    \n",
    "    So the model got the positive and negative words impacts right (although the word 'not' could have double meaning as described previously)."
   ]
  },
  {
   "cell_type": "code",
   "execution_count": 166,
   "metadata": {
    "collapsed": true
   },
   "outputs": [
    {
     "name": "stdout",
     "output_type": "stream",
     "text": [
      "----------------------------------------------------------------------\n",
      "Timing fit of model without limited dictionary...\n",
      "799 ms ± 5.68 ms per loop (mean ± std. dev. of 7 runs, 1 loop each)\n",
      "Model score: 0.8575507614213198\n",
      "\n",
      "----------------------------------------------------------------------\n",
      "Timing fit of model with limited dictionary...\n",
      "16.4 ms ± 176 µs per loop (mean ± std. dev. of 7 runs, 100 loops each)\n",
      "Model score: 0.6897208121827412\n",
      "----------------------------------------------------------------------\n"
     ]
    }
   ],
   "source": [
    "X_train, X_test, y_train, y_test = train_test_split(smaller_df['content'], smaller_df['score'], test_size=0.3, random_state=44)\n",
    "vectorizer = CountVectorizer()\n",
    "X_train = vectorizer.fit_transform(X_train)\n",
    "X_test = vectorizer.transform(X_test)\n",
    "model = LogisticRegression(max_iter=iterations)\n",
    "print(lines())\n",
    "print('Timing fit of model without limited dictionary...')\n",
    "%timeit model.fit(X_train, y_train)\n",
    "print(f'Model score: {model.score(X_test, y_test)}', end='\\n\\n')\n",
    "\n",
    "X_train, X_test, y_train, y_test = train_test_split(smaller_df['content'], smaller_df['score'], test_size=0.3, random_state=44)\n",
    "vectorizer = CountVectorizer(vocabulary=significant_words)\n",
    "X_train = vectorizer.fit_transform(X_train)\n",
    "X_test = vectorizer.transform(X_test)\n",
    "model = LogisticRegression(max_iter=iterations)\n",
    "print(lines())\n",
    "print('Timing fit of model with limited dictionary...')\n",
    "%timeit model.fit(X_train, y_train)\n",
    "print(f'Model score: {model.score(X_test, y_test)}')\n",
    "print(lines())"
   ]
  },
  {
   "cell_type": "markdown",
   "metadata": {},
   "source": [
    "# Note:\n",
    "    The time difference the model in which we used predefined vocabulary is enormous (almost 20x) - because we do not have to analyze all of the words but only ones from the given vocabulary. \n",
    "    Of course because of that the score is worse (but we discussed it before, as it is the same model as previously)"
   ]
  }
 ],
 "metadata": {
  "anaconda-cloud": {},
  "kernelspec": {
   "display_name": "Python 3.10.8 64-bit",
   "language": "python",
   "name": "python3"
  },
  "language_info": {
   "codemirror_mode": {
    "name": "ipython",
    "version": 3
   },
   "file_extension": ".py",
   "mimetype": "text/x-python",
   "name": "python",
   "nbconvert_exporter": "python",
   "pygments_lexer": "ipython3",
   "version": "3.10.8"
  },
  "vscode": {
   "interpreter": {
    "hash": "21c533348f67f502eabc569758b203ffa20ec3a8cd71fc4a8c028e54127dd2ae"
   }
  }
 },
 "nbformat": 4,
 "nbformat_minor": 4
}
